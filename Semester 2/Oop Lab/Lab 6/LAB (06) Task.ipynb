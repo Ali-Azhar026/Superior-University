{
 "cells": [
  {
   "cell_type": "markdown",
   "id": "dfd24d13-8808-47dc-9018-07648d0675df",
   "metadata": {},
   "source": [
    "## ¬@TASK [01]"
   ]
  },
  {
   "cell_type": "code",
   "execution_count": 5,
   "id": "33f61adb-6baa-46e5-b0ed-a3532ee5c783",
   "metadata": {},
   "outputs": [
    {
     "name": "stdin",
     "output_type": "stream",
     "text": [
      "Enter course type (undergraduate/graduate):  undergraduate\n",
      "Enter course name:  Computer Science\n",
      "Enter course code:  CS201\n",
      "Enter year level:  2nd year\n"
     ]
    },
    {
     "name": "stdout",
     "output_type": "stream",
     "text": [
      "Course Code : CS201, Course Name : Computer Science\n",
      "Year Level : 2nd year\n"
     ]
    }
   ],
   "source": [
    "class Course:\n",
    "    def __init__(self, course_code, course_name):\n",
    "        self.code = course_code\n",
    "        self.name = course_name\n",
    "\n",
    "    def display_info(self):\n",
    "        print(f\"Course Code : {self.code}, Course Name : {self.name}\")\n",
    "\n",
    "\n",
    "class Undergraduate_course(Course):\n",
    "    def __init__(self, course_code, course_name, year_level):\n",
    "        super().__init__(course_code, course_name)\n",
    "        self.year_level = year_level\n",
    "\n",
    "    def additional_info(self):\n",
    "        print(f\"Year Level : {self.year_level}\")\n",
    "\n",
    "class Graduate_course(Course):\n",
    "    def __init__(self, course_code, course_name, research_area):\n",
    "        super().__init__(course_code, course_name)\n",
    "        self.research_area = research_area\n",
    "\n",
    "    def additional_info(self):\n",
    "        print(f\"Research_area : {self.research_area}\")\n",
    "\n",
    "def register_course():\n",
    "    course_type = input(\"Enter course type (undergraduate/graduate): \")\n",
    "    course_name = input(\"Enter course name: \")\n",
    "    course_code = input(\"Enter course code: \")\n",
    "\n",
    "    if course_type == 'undergraduate':\n",
    "        year_level = input(\"Enter year level: \")\n",
    "\n",
    "        course = Undergraduate_course(course_code, course_name, year_level)\n",
    "        \n",
    "    elif course_type == 'graduate':\n",
    "        research_area = input(\"Enter research area: \")\n",
    "        \n",
    "        course = Graduate_course(course_code, course_name, research_area)\n",
    "        \n",
    "    else:\n",
    "        print(\"Invalid course type\")\n",
    "        return\n",
    "\n",
    "\n",
    "    course.display_info()\n",
    "    course.additional_info()\n",
    "\n",
    "\n",
    "register_course()"
   ]
  }
 ],
 "metadata": {
  "kernelspec": {
   "display_name": "Python 3 (ipykernel)",
   "language": "python",
   "name": "python3"
  },
  "language_info": {
   "codemirror_mode": {
    "name": "ipython",
    "version": 3
   },
   "file_extension": ".py",
   "mimetype": "text/x-python",
   "name": "python",
   "nbconvert_exporter": "python",
   "pygments_lexer": "ipython3",
   "version": "3.11.7"
  }
 },
 "nbformat": 4,
 "nbformat_minor": 5
}
