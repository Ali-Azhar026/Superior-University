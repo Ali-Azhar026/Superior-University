{
 "cells": [
  {
   "cell_type": "markdown",
   "id": "0043961e-82eb-4c5a-aa14-0ddf0ff60f41",
   "metadata": {},
   "source": [
    "## ¬@TASK [01]"
   ]
  },
  {
   "cell_type": "code",
   "execution_count": 4,
   "id": "e35afc2f-4b53-448f-a290-258adbbf1e15",
   "metadata": {},
   "outputs": [
    {
     "name": "stdout",
     "output_type": "stream",
     "text": [
      "Title: To kill a Mockingbird, Author: Harper Lee, Publication Year: 1960\n"
     ]
    }
   ],
   "source": [
    "class Book:\n",
    "    def __init__(self,title,author,publication_year):\n",
    "        self.title = title\n",
    "        self.author = author\n",
    "        self.publication_year = publication_year\n",
    "\n",
    "    def __str__(self):\n",
    "        return f\"Title: {self.title}, Author: {self.author}, Publication Year: {self.publication_year}\"\n",
    "\n",
    "a = Book(\"To kill a Mockingbird\", \"Harper Lee\", 1960)\n",
    "print(a)"
   ]
  }
 ],
 "metadata": {
  "kernelspec": {
   "display_name": "Python 3 (ipykernel)",
   "language": "python",
   "name": "python3"
  },
  "language_info": {
   "codemirror_mode": {
    "name": "ipython",
    "version": 3
   },
   "file_extension": ".py",
   "mimetype": "text/x-python",
   "name": "python",
   "nbconvert_exporter": "python",
   "pygments_lexer": "ipython3",
   "version": "3.11.7"
  }
 },
 "nbformat": 4,
 "nbformat_minor": 5
}
