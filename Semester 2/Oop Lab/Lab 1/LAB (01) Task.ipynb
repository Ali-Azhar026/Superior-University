{
 "cells": [
  {
   "cell_type": "markdown",
   "id": "c5e7995a-dfcf-4e80-84e0-312776c8f41c",
   "metadata": {},
   "source": [
    "## ¬@TASK [01] "
   ]
  },
  {
   "cell_type": "code",
   "execution_count": null,
   "id": "2dfbfce2-4cbe-48c9-b606-9a2c860cbf7f",
   "metadata": {},
   "outputs": [],
   "source": [
    "import math\n",
    "\n",
    "def is_prime(number):\n",
    "    if number <= 1:\n",
    "        return False\n",
    "    for i in range(2, int(number ** 0.5) + 1):\n",
    "        if number % i == 0:\n",
    "            return False\n",
    "    return True\n",
    "\n",
    "def main():\n",
    "    while True:\n",
    "        number = int(input(\"Enter a number\"))\n",
    "        \n",
    "        if is_prime(number):\n",
    "            print(f\"{number} is a prime number\")\n",
    "        else:\n",
    "            print(f\"{number} is not a prime number\")\n",
    "\n",
    "if __name__ == \"__main__\":\n",
    "    main()"
   ]
  },
  {
   "cell_type": "code",
   "execution_count": null,
   "id": "257b83f5-acb0-4a78-9f0b-bd82d2f4dd12",
   "metadata": {},
   "outputs": [],
   "source": []
  }
 ],
 "metadata": {
  "kernelspec": {
   "display_name": "Python 3 (ipykernel)",
   "language": "python",
   "name": "python3"
  },
  "language_info": {
   "codemirror_mode": {
    "name": "ipython",
    "version": 3
   },
   "file_extension": ".py",
   "mimetype": "text/x-python",
   "name": "python",
   "nbconvert_exporter": "python",
   "pygments_lexer": "ipython3",
   "version": "3.11.7"
  }
 },
 "nbformat": 4,
 "nbformat_minor": 5
}
