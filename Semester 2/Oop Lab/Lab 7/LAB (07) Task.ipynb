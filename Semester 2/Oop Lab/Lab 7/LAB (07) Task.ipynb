{
 "cells": [
  {
   "cell_type": "markdown",
   "id": "f9ae6427-b54b-4e05-83b5-3a28b1dfcda1",
   "metadata": {},
   "source": [
    "## ¬@TASK [01]"
   ]
  },
  {
   "cell_type": "code",
   "execution_count": 3,
   "id": "892339a5-f0e5-40ec-9cd6-99e46fda534c",
   "metadata": {},
   "outputs": [
    {
     "name": "stdout",
     "output_type": "stream",
     "text": [
      "Make : 2002, Model : Toyota\n",
      "No of doors : 2\n",
      "Features : Reliable\n"
     ]
    }
   ],
   "source": [
    "class Vehicle:\n",
    "    def __init__(self, make, model):\n",
    "        self.make = make\n",
    "        self.model = model\n",
    "\n",
    "    def display_info(self):\n",
    "        print(f\"Make : {self.make}, Model : {self.model}\")\n",
    "\n",
    "class Car(Vehicle):\n",
    "    def __init__(self, make, model, no_of_doors):\n",
    "        super().__init__(make, model)\n",
    "        self.no_of_doors = no_of_doors\n",
    "\n",
    "    def extra_info(self):\n",
    "        print(f\"No of doors : {self.no_of_doors}\")\n",
    "\n",
    "class Luxury_Car(Car):\n",
    "    def __init__(self, make, model, no_of_doors, features):\n",
    "        super().__init__(make, model, no_of_doors)\n",
    "        self.features = features\n",
    "\n",
    "    def additional_info(self):\n",
    "        print(f\"Features : {self.features}\")\n",
    "        \n",
    "\n",
    "car = Luxury_Car(2002, \"Toyota\", 2, \"Reliable\")\n",
    "car.display_info()\n",
    "car.extra_info()\n",
    "car.additional_info()"
   ]
  },
  {
   "cell_type": "markdown",
   "id": "62171e95-c8ba-44d3-80cb-4c8f6515b216",
   "metadata": {},
   "source": [
    "## ¬@TASK [02]"
   ]
  },
  {
   "cell_type": "code",
   "execution_count": 7,
   "id": "fa5c7e48-d250-4d90-a219-00cf1cee84cb",
   "metadata": {},
   "outputs": [
    {
     "name": "stdout",
     "output_type": "stream",
     "text": [
      "Employee Name : Ali, Position : Good\n",
      "Department : SE\n",
      "Employee Name : Ali, Position : Good\n",
      "Working Hours : 20\n"
     ]
    }
   ],
   "source": [
    "class Employee:\n",
    "    def __init__(self, name, position):\n",
    "        self.name = name\n",
    "        self.position = position\n",
    "\n",
    "    def display_info(self):\n",
    "        print(f\"Employee Name : {self.name}, Position : {self.position}\")\n",
    "\n",
    "class Manager(Employee):\n",
    "    def __init__(self, name, position, department):\n",
    "        super().__init__(name, position)\n",
    "        self.department = department\n",
    "\n",
    "    def additional_info(self):\n",
    "        print(f\"Department : {self.department}\")\n",
    "\n",
    "class Worker(Employee):\n",
    "    def __init__(self, name, position, hours_worked):\n",
    "        super().__init__(name, position)\n",
    "        self.hours_worked = hours_worked\n",
    "\n",
    "    def additional_info(self):\n",
    "        print(f\"Working Hours : {self.hours_worked}\")\n",
    "\n",
    "\n",
    "Manage = Manager(\"Ali\", \"Good\", \"SE\")\n",
    "Manage.display_info()\n",
    "Manage.additional_info()\n",
    "\n",
    "\n",
    "Work = Worker(\"Ali\", \"Good\", 20)\n",
    "Work.display_info()\n",
    "Work.additional_info()"
   ]
  }
 ],
 "metadata": {
  "kernelspec": {
   "display_name": "Python 3 (ipykernel)",
   "language": "python",
   "name": "python3"
  },
  "language_info": {
   "codemirror_mode": {
    "name": "ipython",
    "version": 3
   },
   "file_extension": ".py",
   "mimetype": "text/x-python",
   "name": "python",
   "nbconvert_exporter": "python",
   "pygments_lexer": "ipython3",
   "version": "3.11.7"
  }
 },
 "nbformat": 4,
 "nbformat_minor": 5
}
