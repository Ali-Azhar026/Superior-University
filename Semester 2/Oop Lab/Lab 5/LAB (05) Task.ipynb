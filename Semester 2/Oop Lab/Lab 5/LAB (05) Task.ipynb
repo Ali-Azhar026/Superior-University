{
 "cells": [
  {
   "cell_type": "markdown",
   "id": "59745e8e-0b1b-4231-b811-f529266958b7",
   "metadata": {},
   "source": [
    "## ¬@TASK [01]"
   ]
  },
  {
   "cell_type": "code",
   "execution_count": 6,
   "id": "e4029508-7b74-4b8a-8c23-9eecd299e806",
   "metadata": {},
   "outputs": [
    {
     "name": "stdout",
     "output_type": "stream",
     "text": [
      "Title : Think and grow rich, Author : Nepolian Hill\n",
      "Pages: 238\n",
      "Title : Think and grow rich, Author : Nepolian Hill\n",
      "Issue Number : 15\n"
     ]
    }
   ],
   "source": [
    "class Item:\n",
    "    def __init__(self, title, author):\n",
    "        self.title = title\n",
    "        self.author = author\n",
    "\n",
    "    def display_info(self):\n",
    "        print(f\"Title : {self.title}, Author : {self.author}\")\n",
    "\n",
    "class Book(Item):\n",
    "    def __init__(self, title, author, pages):\n",
    "        super().__init__(title, author)\n",
    "        self.pages = pages\n",
    "\n",
    "    def additional_info(self):\n",
    "        print(f\"Pages: {self.pages}\")\n",
    "\n",
    "\n",
    "class Magzine(Item):\n",
    "    def __init__(self, title, author, issue_number):\n",
    "        super().__init__(title, author)\n",
    "        self.issue_number = issue_number\n",
    "\n",
    "    def additional_info(self):\n",
    "        print(f\"Issue Number : {self.issue_number}\")\n",
    "\n",
    "\n",
    "\n",
    "book = Book(\"Think and grow rich\", \"Nepolian Hill\", 238)\n",
    "book.display_info()\n",
    "book.additional_info()\n",
    "\n",
    "magzine = Magzine(\"Think and grow rich\", \"Nepolian Hill\", 15)\n",
    "magzine.display_info()\n",
    "magzine.additional_info()"
   ]
  }
 ],
 "metadata": {
  "kernelspec": {
   "display_name": "Python 3 (ipykernel)",
   "language": "python",
   "name": "python3"
  },
  "language_info": {
   "codemirror_mode": {
    "name": "ipython",
    "version": 3
   },
   "file_extension": ".py",
   "mimetype": "text/x-python",
   "name": "python",
   "nbconvert_exporter": "python",
   "pygments_lexer": "ipython3",
   "version": "3.11.7"
  }
 },
 "nbformat": 4,
 "nbformat_minor": 5
}
