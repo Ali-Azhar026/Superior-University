{
 "cells": [
  {
   "cell_type": "markdown",
   "id": "473d2d94-3acc-40fe-b421-7b49d72ac4df",
   "metadata": {},
   "source": [
    "## ¬@TASK [01]"
   ]
  },
  {
   "cell_type": "code",
   "execution_count": 18,
   "id": "64326cb9-db4b-4246-bc80-0f6ed1dd75b1",
   "metadata": {},
   "outputs": [
    {
     "name": "stdin",
     "output_type": "stream",
     "text": [
      "Enter Width: 2.4\n",
      "Enter Height: 3.4\n"
     ]
    },
    {
     "name": "stdout",
     "output_type": "stream",
     "text": [
      "Rectangle: 2.4 * 3.4\n",
      "Area of the rectangle: 8.16\n",
      "Perimeter of the Rectangle: 11.6\n"
     ]
    }
   ],
   "source": [
    "class Rectangle:\n",
    "    def __init__(self,width,height):\n",
    "        self.width = width\n",
    "        self.height = height\n",
    "\n",
    "    def __str__(self):\n",
    "        return f\"Rectangle: {self.width} * {self.height}\"\n",
    "\n",
    "    def Area(self):\n",
    "        return self.width * self.height\n",
    "\n",
    "    def Perimeter(self):\n",
    "        return (2 * (self.width + self.height))\n",
    "\n",
    "\n",
    "Width = float(input(\"Enter Width:\"))\n",
    "Height = float(input(\"Enter Height:\"))\n",
    "\n",
    "a = Rectangle(Width,Height)\n",
    "print(a)\n",
    "\n",
    "print(\"Area of the rectangle:\", a.Area())\n",
    "print(\"Perimeter of the Rectangle:\", a.Perimeter())"
   ]
  }
 ],
 "metadata": {
  "kernelspec": {
   "display_name": "Python 3 (ipykernel)",
   "language": "python",
   "name": "python3"
  },
  "language_info": {
   "codemirror_mode": {
    "name": "ipython",
    "version": 3
   },
   "file_extension": ".py",
   "mimetype": "text/x-python",
   "name": "python",
   "nbconvert_exporter": "python",
   "pygments_lexer": "ipython3",
   "version": "3.11.7"
  }
 },
 "nbformat": 4,
 "nbformat_minor": 5
}
