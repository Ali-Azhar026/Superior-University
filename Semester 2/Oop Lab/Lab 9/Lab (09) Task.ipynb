{
 "cells": [
  {
   "cell_type": "markdown",
   "id": "7c7204f7-3f9c-4948-a4d9-c43810e7250c",
   "metadata": {},
   "source": [
    "## ¬@TASK [01]"
   ]
  },
  {
   "cell_type": "code",
   "execution_count": 1,
   "id": "2fdd29ca-dfe8-4af0-afdc-cc2d11bbec49",
   "metadata": {},
   "outputs": [
    {
     "name": "stdout",
     "output_type": "stream",
     "text": [
      "\n",
      "Document Management System\n",
      "1. Add Document\n",
      "2. Display All Documents\n",
      "3. Save and Exit\n"
     ]
    },
    {
     "name": "stdin",
     "output_type": "stream",
     "text": [
      "Enter your choice:  1\n"
     ]
    },
    {
     "name": "stdout",
     "output_type": "stream",
     "text": [
      "\n",
      "Add a New Document\n"
     ]
    },
    {
     "name": "stdin",
     "output_type": "stream",
     "text": [
      "Enter type of document (Book/Article):  Book\n",
      "Enter title:  Higher\n",
      "Enter author:  rety\n",
      "Enter genre:  32\n",
      "Enter number of pages:  34\n"
     ]
    },
    {
     "name": "stdout",
     "output_type": "stream",
     "text": [
      "Document added successfully!\n",
      "\n",
      "Document Management System\n",
      "1. Add Document\n",
      "2. Display All Documents\n",
      "3. Save and Exit\n"
     ]
    },
    {
     "name": "stdin",
     "output_type": "stream",
     "text": [
      "Enter your choice:  3\n"
     ]
    },
    {
     "name": "stdout",
     "output_type": "stream",
     "text": [
      "Documents saved to Documents.csv. Exiting program.\n"
     ]
    }
   ],
   "source": [
    "import csv\n",
    "\n",
    "class Document:\n",
    "    def __init__(self, title, author):\n",
    "        self.title = title\n",
    "        self.author = author\n",
    "\n",
    "    def display_info(self):\n",
    "        print(f\"Title: {self.title}\")\n",
    "        print(f\"Author: {self.author}\")\n",
    "\n",
    "\n",
    "class Book(Document):\n",
    "    def __init__(self, title, author, genre, pages):\n",
    "        super().__init__(title, author)\n",
    "        self.genre = genre\n",
    "        self.pages = pages\n",
    "\n",
    "    def display_info(self):\n",
    "        super().display_info()\n",
    "        print(f\"Genre: {self.genre}\")\n",
    "        print(f\"Pages: {self.pages}\")\n",
    "\n",
    "\n",
    "class Article(Document):\n",
    "    def __init__(self, title, author, journal, DOI):\n",
    "        super().__init__(title, author)\n",
    "        self.journal = journal\n",
    "        self.DOI = DOI\n",
    "\n",
    "    def display_info(self):\n",
    "        super().display_info()\n",
    "        print(f\"Journal: {self.journal}\")\n",
    "        print(f\"DOI: {self.DOI}\")\n",
    "\n",
    "\n",
    "def save_to_csv(filename, documents):\n",
    "    with open(filename, mode='w', newline='') as file:\n",
    "        writer = csv.writer(file)\n",
    "        writer.writerow([\"Type\", \"Title\", \"Author\", \"Genre/Journal\", \"Pages/DOI\"])\n",
    "        for doc in documents:\n",
    "            if isinstance(doc, Book):\n",
    "                writer.writerow([\"Book\", doc.title, doc.author, doc.genre, doc.pages])\n",
    "            elif isinstance(doc, Article):\n",
    "                writer.writerow([\"Article\", doc.title, doc.author, doc.journal, doc.DOI])\n",
    "\n",
    "\n",
    "def load_from_csv(filename):\n",
    "    documents = []\n",
    "    try:\n",
    "        with open(filename, mode='r') as file:\n",
    "            reader = csv.reader(file)\n",
    "            next(reader)  \n",
    "            for row in reader:\n",
    "                doc_type, title, author, attr1, attr2 = row\n",
    "                if doc_type == \"Book\":\n",
    "                    documents.append(Book(title, author, attr1, attr2))\n",
    "                elif doc_type == \"Article\":\n",
    "                    documents.append(Article(title, author, attr1, attr2))\n",
    "    except FileNotFoundError:\n",
    "        print(f\"{filename} not found. No data loaded.\")\n",
    "    return documents\n",
    "\n",
    "\n",
    "def add_document():\n",
    "    print(\"\\nAdd a New Document\")\n",
    "    doc_type = input(\"Enter type of document (Book/Article): \").strip().lower()\n",
    "\n",
    "    title = input(\"Enter title: \").strip()\n",
    "    author = input(\"Enter author: \").strip()\n",
    "\n",
    "    if doc_type == \"book\":\n",
    "        genre = input(\"Enter genre: \").strip()\n",
    "        pages = input(\"Enter number of pages: \").strip()\n",
    "        return Book(title, author, genre, pages)\n",
    "\n",
    "    elif doc_type == \"article\":\n",
    "        journal = input(\"Enter journal name: \").strip()\n",
    "        doi = input(\"Enter DOI: \").strip()\n",
    "        return Article(title, author, journal, DOI)\n",
    "\n",
    "    else:\n",
    "        print(\"Invalid document type!\")\n",
    "        return None\n",
    "\n",
    "\n",
    "def display_documents(documents):\n",
    "    if not documents:\n",
    "        print(\"\\nNo documents available.\")\n",
    "        return\n",
    "\n",
    "    print(\"\\nDisplaying All Documents:\")\n",
    "    for doc in documents:\n",
    "        doc.display_info()\n",
    "        print(\"-\" * 30)\n",
    "\n",
    "\n",
    "def main():\n",
    "    filename = \"Documents.csv\"\n",
    "    documents = load_from_csv(filename)\n",
    "\n",
    "    while True:\n",
    "        print(\"\\nDocument Management System\")\n",
    "        print(\"1. Add Document\")\n",
    "        print(\"2. Display All Documents\")\n",
    "        print(\"3. Save and Exit\")\n",
    "\n",
    "        choice = input(\"Enter your choice: \").strip()\n",
    "\n",
    "        if choice == \"1\":\n",
    "            new_doc = add_document()\n",
    "            if new_doc:\n",
    "                documents.append(new_doc)\n",
    "                print(\"Document added successfully!\")\n",
    "\n",
    "        elif choice == \"2\":\n",
    "            display_documents(documents)\n",
    "\n",
    "        elif choice == \"3\":\n",
    "            save_to_csv(filename, documents)\n",
    "            print(f\"Documents saved to {filename}. Exiting program.\")\n",
    "            break\n",
    "\n",
    "        else:\n",
    "            print(\"Invalid choice. Please try again.\")\n",
    "\n",
    "\n",
    "if __name__ == \"__main__\":\n",
    "    main()"
   ]
  }
 ],
 "metadata": {
  "kernelspec": {
   "display_name": "Python 3 (ipykernel)",
   "language": "python",
   "name": "python3"
  },
  "language_info": {
   "codemirror_mode": {
    "name": "ipython",
    "version": 3
   },
   "file_extension": ".py",
   "mimetype": "text/x-python",
   "name": "python",
   "nbconvert_exporter": "python",
   "pygments_lexer": "ipython3",
   "version": "3.11.7"
  }
 },
 "nbformat": 4,
 "nbformat_minor": 5
}
