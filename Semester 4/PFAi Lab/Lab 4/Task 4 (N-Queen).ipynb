{
 "cells": [
  {
   "cell_type": "markdown",
   "id": "43bbaaa0-7886-43ad-9795-297ac0597f7b",
   "metadata": {},
   "source": [
    "# ¬@Task 4"
   ]
  },
  {
   "cell_type": "code",
   "execution_count": 8,
   "id": "1f6ca025-0b13-49ad-94c4-05126f3ab0b9",
   "metadata": {},
   "outputs": [
    {
     "name": "stdout",
     "output_type": "stream",
     "text": [
      ". Q . . \n",
      ". . . Q \n",
      "Q . . . \n",
      ". . Q . \n",
      "\n",
      "--------\n",
      ". . Q . \n",
      "Q . . . \n",
      ". . . Q \n",
      ". Q . . \n",
      "\n",
      "--------\n"
     ]
    }
   ],
   "source": [
    "def print_board(board, N):\n",
    "    for i in range(N):\n",
    "        row = \"\"\n",
    "        for j in range(N):\n",
    "            row += \"Q \" if board[i][j] == 1 else \". \"\n",
    "        print(row)\n",
    "    print(\"\\n\" + \"-\" * (2*N))\n",
    "\n",
    "\n",
    "def is_safe(board, row, col, N):\n",
    "    for i in range(row):\n",
    "        if board[i][col] == 1:\n",
    "            return False\n",
    "    for i, j in zip(range(row-1, -1, -1), range(col-1, -1, -1)):\n",
    "        if board[i][j] == 1:\n",
    "            return False\n",
    "    for i, j in zip(range(row-1, -1, -1), range(col+1, N)):\n",
    "        if board[i][j] == 1:\n",
    "            return False\n",
    "    return True\n",
    "\n",
    "\n",
    "def solve(board, row, N):\n",
    "    if row == N:\n",
    "        print_board(board, N)\n",
    "        return True\n",
    "    \n",
    "    res = False\n",
    "    for col in range(N):\n",
    "        if is_safe(board, row, col, N):\n",
    "            board[row][col] = 1\n",
    "            res = solve(board, row+1, N) or res\n",
    "            board[row][col] = 0\n",
    "    return res\n",
    "\n",
    "\n",
    "def n_queens(N):\n",
    "    board = [[0]*N for _ in range(N)]\n",
    "    if not solve(board, 0, N):\n",
    "        print(\"No solution for\", N)\n",
    "\n",
    "\n",
    "N = 4\n",
    "n_queens(N)"
   ]
  },
  {
   "cell_type": "code",
   "execution_count": null,
   "id": "879706ed-9c5f-4e25-9826-1cf1cc21771f",
   "metadata": {},
   "outputs": [],
   "source": []
  }
 ],
 "metadata": {
  "kernelspec": {
   "display_name": "Python 3 (ipykernel)",
   "language": "python",
   "name": "python3"
  },
  "language_info": {
   "codemirror_mode": {
    "name": "ipython",
    "version": 3
   },
   "file_extension": ".py",
   "mimetype": "text/x-python",
   "name": "python",
   "nbconvert_exporter": "python",
   "pygments_lexer": "ipython3",
   "version": "3.13.3"
  }
 },
 "nbformat": 4,
 "nbformat_minor": 5
}
