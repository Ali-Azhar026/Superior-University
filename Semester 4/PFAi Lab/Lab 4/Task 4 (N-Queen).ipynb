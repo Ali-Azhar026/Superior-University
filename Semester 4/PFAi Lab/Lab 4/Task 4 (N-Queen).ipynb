{
 "cells": [
  {
   "cell_type": "markdown",
   "id": "43bbaaa0-7886-43ad-9795-297ac0597f7b",
   "metadata": {},
   "source": [
    "# ¬@Task 1"
   ]
  },
  {
   "cell_type": "code",
   "execution_count": 5,
   "id": "1f6ca025-0b13-49ad-94c4-05126f3ab0b9",
   "metadata": {},
   "outputs": [
    {
     "name": "stdout",
     "output_type": "stream",
     "text": [
      ". Q . .\n",
      ". . . Q\n",
      "Q . . .\n",
      ". . Q .\n",
      "\n",
      ". . Q .\n",
      "Q . . .\n",
      ". . . Q\n",
      ". Q . .\n",
      "\n"
     ]
    }
   ],
   "source": [
    "def Print_board(board):\n",
    "    for row in board:\n",
    "        print(\" \".join(row))\n",
    "    print()\n",
    "\n",
    "def is_safe(board, row, col, n):\n",
    "    for i in range(row):\n",
    "        if board[i][col] == \"Q\":\n",
    "            return False\n",
    "\n",
    "    i, j = row - 1, col - 1\n",
    "    while i >= 0 and j >= 0:\n",
    "        if board[i][j] == \"Q\":\n",
    "            return False\n",
    "        i -= 1\n",
    "        j -= 1\n",
    "\n",
    "    i, j = row - 1, col + 1\n",
    "    while i >= 0 and j < n:\n",
    "        if board[i][j] == \"Q\":\n",
    "            return False\n",
    "        i -= 1\n",
    "        j += 1\n",
    "\n",
    "    return True\n",
    "\n",
    "def Solve(board, row, n):\n",
    "    if row == n:\n",
    "        Print_board(board)\n",
    "        return\n",
    "\n",
    "    for col in range(n):\n",
    "        if is_safe(board, row, col, n):\n",
    "            board[row][col] = \"Q\"  \n",
    "            Solve(board, row + 1, n)\n",
    "            board[row][col] = \".\"  \n",
    "\n",
    "def N_queens(n):\n",
    "    board = [[\".\"] * n for _ in range(n)]\n",
    "    Solve(board, 0, n)\n",
    "\n",
    "\n",
    "N_queens(4)"
   ]
  }
 ],
 "metadata": {
  "kernelspec": {
   "display_name": "Python 3 (ipykernel)",
   "language": "python",
   "name": "python3"
  },
  "language_info": {
   "codemirror_mode": {
    "name": "ipython",
    "version": 3
   },
   "file_extension": ".py",
   "mimetype": "text/x-python",
   "name": "python",
   "nbconvert_exporter": "python",
   "pygments_lexer": "ipython3",
   "version": "3.13.3"
  }
 },
 "nbformat": 4,
 "nbformat_minor": 5
}
