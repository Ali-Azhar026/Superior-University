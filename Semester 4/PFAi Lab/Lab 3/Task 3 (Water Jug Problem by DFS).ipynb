{
 "cells": [
  {
   "cell_type": "markdown",
   "id": "dd0de601-0e6c-4981-94c5-7366ff5e5226",
   "metadata": {},
   "source": [
    "# ¬@Task 1"
   ]
  },
  {
   "cell_type": "code",
   "execution_count": 4,
   "id": "bc8ea054-0a19-4faa-bd89-d168e29c5e1d",
   "metadata": {},
   "outputs": [
    {
     "name": "stdout",
     "output_type": "stream",
     "text": [
      "Steps for solving Water Jug Problem:\n",
      "(0, 0)\n",
      "(4, 0)\n",
      "(4, 3)\n",
      "(0, 3)\n",
      "(3, 0)\n",
      "(3, 3)\n",
      "(4, 2)\n"
     ]
    }
   ],
   "source": [
    "def Water_jug(Jug_a, Jug_b, Target):\n",
    "    Visited = set()\n",
    "\n",
    "    def DFS(states, path):\n",
    "        a, b = states\n",
    "        if a == target or b == target:\n",
    "            return path + [states]   \n",
    "        \n",
    "        if states in Visited:\n",
    "            return None\n",
    "        Visited.add(states)\n",
    "\n",
    "        \n",
    "        moves = [\n",
    "            (Jug_a, b),     \n",
    "            (a, Jug_b),     \n",
    "            (0, b),        \n",
    "            (a, 0),        \n",
    "            (a - min(a, Jug_b - b), b + min(a, Jug_b - b)),  \n",
    "            (a + min(b, Jug_a - a), b - min(b, Jug_a - a))  \n",
    "        ]\n",
    "\n",
    "        for new_state in moves:\n",
    "            Result = DFS(new_state, path + [states])\n",
    "            if Result:\n",
    "                return Result\n",
    "        return None\n",
    "\n",
    "    return DFS((0, 0), [])\n",
    "\n",
    "\n",
    "\n",
    "Jug_a = 4\n",
    "Jug_b = 3\n",
    "Target = 2\n",
    "\n",
    "Solution = Water_jug(Jug_a, Jug_b, Target)\n",
    "\n",
    "print(\"Steps for solving Water Jug Problem:\")\n",
    "for step in Solution:\n",
    "    print(step)"
   ]
  }
 ],
 "metadata": {
  "kernelspec": {
   "display_name": "Python 3 (ipykernel)",
   "language": "python",
   "name": "python3"
  },
  "language_info": {
   "codemirror_mode": {
    "name": "ipython",
    "version": 3
   },
   "file_extension": ".py",
   "mimetype": "text/x-python",
   "name": "python",
   "nbconvert_exporter": "python",
   "pygments_lexer": "ipython3",
   "version": "3.13.3"
  }
 },
 "nbformat": 4,
 "nbformat_minor": 5
}
