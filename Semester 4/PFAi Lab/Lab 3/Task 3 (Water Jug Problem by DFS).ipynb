{
 "cells": [
  {
   "cell_type": "markdown",
   "id": "dd0de601-0e6c-4981-94c5-7366ff5e5226",
   "metadata": {},
   "source": [
    "# ¬@Task 1"
   ]
  },
  {
   "cell_type": "code",
   "execution_count": 1,
   "id": "bc8ea054-0a19-4faa-bd89-d168e29c5e1d",
   "metadata": {},
   "outputs": [
    {
     "name": "stdout",
     "output_type": "stream",
     "text": [
      "State: (0, 3) | Rule Applied: Fill Jug 2 (3L jug)\n",
      "State: (3, 0) | Rule Applied: Pour water from Jug 2 (3L) to Jug 1 (4L)\n",
      "State: (3, 3) | Rule Applied: Fill Jug 2 (3L jug)\n",
      "State: (4, 2) | Rule Applied: Pour water from Jug 2 (3L) to Jug 1 (4L)\n",
      "Final State: (4, 2)\n"
     ]
    }
   ],
   "source": [
    "rules = {\n",
    "    \"fill_4\": \"Fill Jug 1 with 4L \",\n",
    "    \"fill_3\": \"Fill Jug 2 with 3L )\",\n",
    "    \"empty_4\": \"Empty Jug 1 (4L jug)\",\n",
    "    \"empty_3\": \"Empty Jug 2 (3L jug)\",\n",
    "    \"pour_4_to_3\": \"Pour water from Jug 1 (4L) to Jug 2 (3L)\",\n",
    "    \"pour_3_to_4\": \"Pour water from Jug 2 (3L) to Jug 1 (4L)\"\n",
    "}\n",
    "\n",
    "def water_jug_dfs(capacity1=4, capacity2=3, target=2):\n",
    "    stack = [((0, 0), [])]  \n",
    "    visited = set()\n",
    "\n",
    "    while stack:\n",
    "        (jug1, jug2), path = stack.pop()\n",
    "\n",
    "        \n",
    "        if jug1 == target or jug2 == target:\n",
    "            for step, rule in path:\n",
    "                print(f\"State: {step} | Rule Applied: {rules[rule]}\")\n",
    "            print(f\"Final State: ({jug1}, {jug2})\")\n",
    "            return\n",
    "\n",
    "        if (jug1, jug2) in visited:\n",
    "            continue\n",
    "        visited.add((jug1, jug2))\n",
    "\n",
    "        moves = [\n",
    "            ((capacity1, jug2), \"fill_4\"),  \n",
    "            ((jug1, capacity2), \"fill_3\"),   \n",
    "            ((0, jug2), \"empty_4\"),         \n",
    "            ((jug1, 0), \"empty_3\"),         \n",
    "    \n",
    "            ((jug1 - min(jug1, capacity2 - jug2), \n",
    "              jug2 + min(jug1, capacity2 - jug2)), \"pour_4_to_3\"),\n",
    "          \n",
    "            ((jug1 + min(jug2, capacity1 - jug1), \n",
    "              jug2 - min(jug2, capacity1 - jug1)), \"pour_3_to_4\"),\n",
    "        ]\n",
    "\n",
    "        for state, rule in moves:\n",
    "            if state not in visited:\n",
    "                stack.append((state, path + [(state, rule)]))\n",
    "\n",
    "\n",
    "water_jug_dfs()"
   ]
  }
 ],
 "metadata": {
  "kernelspec": {
   "display_name": "Python 3 (ipykernel)",
   "language": "python",
   "name": "python3"
  },
  "language_info": {
   "codemirror_mode": {
    "name": "ipython",
    "version": 3
   },
   "file_extension": ".py",
   "mimetype": "text/x-python",
   "name": "python",
   "nbconvert_exporter": "python",
   "pygments_lexer": "ipython3",
   "version": "3.13.3"
  }
 },
 "nbformat": 4,
 "nbformat_minor": 5
}
