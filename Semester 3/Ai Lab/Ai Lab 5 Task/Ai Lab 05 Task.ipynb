{
 "cells": [
  {
   "cell_type": "markdown",
   "id": "9b656894-af80-4e32-88e7-314d1f41c02a",
   "metadata": {},
   "source": [
    "## ¬@Task 01 (DFS with stack and node)"
   ]
  },
  {
   "cell_type": "code",
   "execution_count": 63,
   "id": "90fd47e6-9b58-42bf-a823-48fdaea96a67",
   "metadata": {},
   "outputs": [
    {
     "name": "stdin",
     "output_type": "stream",
     "text": [
      "Enter Goal:  C\n"
     ]
    },
    {
     "name": "stdout",
     "output_type": "stream",
     "text": [
      "DFS Traversing:\n",
      "A B E G C "
     ]
    }
   ],
   "source": [
    "graph = {\n",
    "    'A': ['B', 'C'],\n",
    "    'B': ['E'],\n",
    "    'C': ['E', 'D'],\n",
    "    'D': ['E', 'G'],\n",
    "    'E': ['G'],\n",
    "    'G': []\n",
    "}\n",
    "\n",
    "def DFS(graph, root_node, goal):\n",
    "    visited = list()\n",
    "    stack = [root_node]\n",
    "\n",
    "    while stack:\n",
    "        node = stack.pop() \n",
    "        if (node not in visited) and (goal not in visited):\n",
    "            if goal == root_node:\n",
    "                print(\"No You should not have goal which is root node plz enter except root node\")\n",
    "            else:\n",
    "                print(node, end=' ')\n",
    "                visited.append(node)\n",
    "                stack.extend(reversed(graph.get(node, []))) \n",
    "\n",
    "goal = input(\"Enter Goal: \")\n",
    "print(\"DFS Traversing:\")\n",
    "DFS(graph, 'A', goal)"
   ]
  },
  {
   "cell_type": "code",
   "execution_count": 72,
   "id": "a916e828-4197-4891-b941-07b3cc73a4e9",
   "metadata": {},
   "outputs": [
    {
     "name": "stdout",
     "output_type": "stream",
     "text": [
      "Preorder\n",
      "A B D E C F \n",
      "Inorder\n",
      "D B E A C F \n",
      "Postorder\n",
      "D E B F C A "
     ]
    }
   ],
   "source": [
    "class Node:\n",
    "    def __init__(self, value):\n",
    "        self.value = value\n",
    "        self.left = None\n",
    "        self.right = None\n",
    "\n",
    "# Left -> Root -> Right\n",
    "def inorder(root):\n",
    "    if root:\n",
    "        inorder(root.left)      \n",
    "        print(root.value, end=' ')  \n",
    "        inorder(root.right)     \n",
    "\n",
    "# Root -> Left -> Right\n",
    "def preorder(root):\n",
    "    if root:\n",
    "        print(root.value, end=' ') \n",
    "        preorder(root.left)    \n",
    "        preorder(root.right)   \n",
    "\n",
    "# Left -> Right -> Root\n",
    "def postorder(root):\n",
    "    if root:\n",
    "        postorder(root.left)   \n",
    "        postorder(root.right)   \n",
    "        print(root.value, end=' ') \n",
    "\n",
    "\n",
    "\"\"\"\n",
    "        A\n",
    "       / \\\n",
    "      B   C\n",
    "     / \\   \\\n",
    "    D   E   F\n",
    "\"\"\"\n",
    "root = Node('A')\n",
    "root.left = Node('B')\n",
    "root.right = Node('C')\n",
    "root.left.left = Node('D')\n",
    "root.left.right = Node('E')\n",
    "root.right.right = Node('F')\n",
    "\n",
    "\n",
    "print(\"Preorder\")\n",
    "preorder(root) \n",
    " \n",
    "print()\n",
    "\n",
    "print(\"Inorder\")\n",
    "inorder(root)\n",
    "\n",
    "print()\n",
    "\n",
    "print(\"Postorder\")\n",
    "postorder(root) "
   ]
  }
 ],
 "metadata": {
  "kernelspec": {
   "display_name": "Python 3 (ipykernel)",
   "language": "python",
   "name": "python3"
  },
  "language_info": {
   "codemirror_mode": {
    "name": "ipython",
    "version": 3
   },
   "file_extension": ".py",
   "mimetype": "text/x-python",
   "name": "python",
   "nbconvert_exporter": "python",
   "pygments_lexer": "ipython3",
   "version": "3.11.7"
  }
 },
 "nbformat": 4,
 "nbformat_minor": 5
}
