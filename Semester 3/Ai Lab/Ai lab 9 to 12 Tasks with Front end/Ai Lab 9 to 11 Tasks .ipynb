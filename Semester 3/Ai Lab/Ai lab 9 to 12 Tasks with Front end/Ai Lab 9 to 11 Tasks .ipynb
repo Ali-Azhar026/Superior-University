{
 "cells": [
  {
   "cell_type": "markdown",
   "id": "e66508de-096b-4066-9546-5bded8b16e83",
   "metadata": {},
   "source": [
    "# ¬@Lab 9 to 11 Tasks\n",
    "## 1. Data Loading 2. Data Pre-Processing 3. Dealing with Null Values 4. Data Splitting 5. Apply Classifier(model)"
   ]
  },
  {
   "cell_type": "code",
   "execution_count": 1,
   "id": "31c75816-9090-464c-9d40-166e8d943d09",
   "metadata": {},
   "outputs": [
    {
     "name": "stdout",
     "output_type": "stream",
     "text": [
      "Training Accuracy: 0.9948892674616695\n",
      "Testing Accuracy: 0.9683698296836983\n"
     ]
    }
   ],
   "source": [
    "import pandas as pd\n",
    "import numpy as np\n",
    "from sklearn.preprocessing import LabelEncoder, StandardScaler\n",
    "from sklearn.ensemble import GradientBoostingClassifier\n",
    "from sklearn.model_selection import train_test_split\n",
    "from sklearn.metrics import accuracy_score\n",
    "\n",
    "df = pd.read_csv(\"farm_production_dataset.csv\")\n",
    "df\n",
    "\n",
    "def fillNaMean(cols):\n",
    "    for i in cols:\n",
    "        df[i] = df[i].fillna(df[i].mean())\n",
    "fillNaMean(['Average farm price (dollars per tonne)', 'Average yield (kilograms per hectare)', 'Production (metric tonnes)', 'Seeded area (acres)'])\n",
    "\n",
    "\n",
    "def fillNaMode(cols):\n",
    "    for i in cols:\n",
    "        df[i] = df[i].fillna(df[i].mode()[0])\n",
    "fillNaMode(['Type of crop', 'Average farm price (dollars per tonne)', 'Seeded area (hectares)', 'Total farm value (dollars)'])\n",
    "\n",
    "\n",
    "def changeFloattoInt64(cols):\n",
    "    for i in cols:\n",
    "        df[i] = df[i].astype('int64')\n",
    "changeFloattoInt64(['Average farm price (dollars per tonne)', 'Average yield (kilograms per hectare)', 'Production (metric tonnes)', 'Seeded area (acres)', 'Seeded area (hectares)'])\n",
    "\n",
    "\n",
    "le = LabelEncoder()\n",
    "df['Type of crop'] = le.fit_transform(df['Type of crop'])\n",
    "\n",
    "df.drop('GEO', axis=1, inplace=True)\n",
    "\n",
    "\n",
    "X = df.drop(columns='Total farm value (dollars)', axis=1)\n",
    "y = df['Total farm value (dollars)']\n",
    "\n",
    "\n",
    "median_value = y.median()\n",
    "y_class = (y > median_value).astype(int)\n",
    "\n",
    "\n",
    "scaler = StandardScaler()\n",
    "X_scaled = scaler.fit_transform(X)\n",
    "\n",
    "\n",
    "X_train, X_test, y_train, y_test = train_test_split(X_scaled, y_class, test_size=0.2, shuffle=False)\n",
    "\n",
    "model = GradientBoostingClassifier()\n",
    "model.fit(X_train, y_train)\n",
    "\n",
    "train_pred = model.predict(X_train)\n",
    "test_pred = model.predict(X_test)\n",
    "train_acc = accuracy_score(y_train, train_pred)\n",
    "test_acc = accuracy_score(y_test, test_pred)\n",
    "\n",
    "\n",
    "import pickle\n",
    "with open('model.pkl', 'wb') as f:\n",
    "    pickle.dump(model, f)\n",
    "\n",
    "with open('scaler.pkl', 'wb') as f:\n",
    "    pickle.dump(scaler, f)\n",
    "\n",
    "\n",
    "print(\"Training Accuracy:\", train_acc)\n",
    "print(\"Testing Accuracy:\", test_acc)"
   ]
  }
 ],
 "metadata": {
  "kernelspec": {
   "display_name": "Python 3 (ipykernel)",
   "language": "python",
   "name": "python3"
  },
  "language_info": {
   "codemirror_mode": {
    "name": "ipython",
    "version": 3
   },
   "file_extension": ".py",
   "mimetype": "text/x-python",
   "name": "python",
   "nbconvert_exporter": "python",
   "pygments_lexer": "ipython3",
   "version": "3.11.7"
  }
 },
 "nbformat": 4,
 "nbformat_minor": 5
}
