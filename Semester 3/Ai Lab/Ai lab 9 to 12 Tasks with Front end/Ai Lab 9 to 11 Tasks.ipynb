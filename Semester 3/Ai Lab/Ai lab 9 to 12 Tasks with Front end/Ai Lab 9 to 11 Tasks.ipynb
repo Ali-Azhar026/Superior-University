{
 "cells": [
  {
   "cell_type": "markdown",
   "id": "82d2b8e9-6c22-43a9-ba6a-d7a3d8aa68fb",
   "metadata": {},
   "source": [
    "# ¬@Task 9 to 11\n",
    "## (Farm production dataset)"
   ]
  },
  {
   "cell_type": "markdown",
   "id": "312321f2-ebb4-42a3-91cb-a8bdcbc89960",
   "metadata": {},
   "source": [
    "# Data loading"
   ]
  },
  {
   "cell_type": "code",
   "execution_count": 44,
   "id": "3896acef-08c0-48e2-ac23-ee7fde8c410f",
   "metadata": {},
   "outputs": [
    {
     "data": {
      "text/html": [
       "<div>\n",
       "<style scoped>\n",
       "    .dataframe tbody tr th:only-of-type {\n",
       "        vertical-align: middle;\n",
       "    }\n",
       "\n",
       "    .dataframe tbody tr th {\n",
       "        vertical-align: top;\n",
       "    }\n",
       "\n",
       "    .dataframe thead th {\n",
       "        text-align: right;\n",
       "    }\n",
       "</style>\n",
       "<table border=\"1\" class=\"dataframe\">\n",
       "  <thead>\n",
       "    <tr style=\"text-align: right;\">\n",
       "      <th></th>\n",
       "      <th>REF_DATE</th>\n",
       "      <th>GEO</th>\n",
       "      <th>Type of crop</th>\n",
       "      <th>Average farm price (dollars per tonne)</th>\n",
       "      <th>Average yield (kilograms per hectare)</th>\n",
       "      <th>Production (metric tonnes)</th>\n",
       "      <th>Seeded area (acres)</th>\n",
       "      <th>Seeded area (hectares)</th>\n",
       "      <th>Total farm value (dollars)</th>\n",
       "    </tr>\n",
       "  </thead>\n",
       "  <tbody>\n",
       "    <tr>\n",
       "      <th>0</th>\n",
       "      <td>1908</td>\n",
       "      <td>AB</td>\n",
       "      <td>Barley</td>\n",
       "      <td>15.00</td>\n",
       "      <td>1585.0</td>\n",
       "      <td>84000.0</td>\n",
       "      <td>129800.0</td>\n",
       "      <td>53000.0</td>\n",
       "      <td>1296</td>\n",
       "    </tr>\n",
       "    <tr>\n",
       "      <th>1</th>\n",
       "      <td>1908</td>\n",
       "      <td>AB</td>\n",
       "      <td>Flaxseed</td>\n",
       "      <td>29.00</td>\n",
       "      <td>950.0</td>\n",
       "      <td>1900.0</td>\n",
       "      <td>5900.0</td>\n",
       "      <td>2000.0</td>\n",
       "      <td>56</td>\n",
       "    </tr>\n",
       "    <tr>\n",
       "      <th>2</th>\n",
       "      <td>1908</td>\n",
       "      <td>AB</td>\n",
       "      <td>Oats</td>\n",
       "      <td>18.00</td>\n",
       "      <td>1675.0</td>\n",
       "      <td>352000.0</td>\n",
       "      <td>519400.0</td>\n",
       "      <td>210000.0</td>\n",
       "      <td>6316</td>\n",
       "    </tr>\n",
       "    <tr>\n",
       "      <th>3</th>\n",
       "      <td>1908</td>\n",
       "      <td>AB</td>\n",
       "      <td>Rye, all</td>\n",
       "      <td>23.00</td>\n",
       "      <td>1665.0</td>\n",
       "      <td>5000.0</td>\n",
       "      <td>6500.0</td>\n",
       "      <td>3000.0</td>\n",
       "      <td>117</td>\n",
       "    </tr>\n",
       "    <tr>\n",
       "      <th>4</th>\n",
       "      <td>1908</td>\n",
       "      <td>AB</td>\n",
       "      <td>Sugar beets</td>\n",
       "      <td>0.55</td>\n",
       "      <td>18100.0</td>\n",
       "      <td>38100.0</td>\n",
       "      <td>5200.0</td>\n",
       "      <td>2100.0</td>\n",
       "      <td>208</td>\n",
       "    </tr>\n",
       "    <tr>\n",
       "      <th>...</th>\n",
       "      <td>...</td>\n",
       "      <td>...</td>\n",
       "      <td>...</td>\n",
       "      <td>...</td>\n",
       "      <td>...</td>\n",
       "      <td>...</td>\n",
       "      <td>...</td>\n",
       "      <td>...</td>\n",
       "      <td>...</td>\n",
       "    </tr>\n",
       "    <tr>\n",
       "      <th>10268</th>\n",
       "      <td>1984</td>\n",
       "      <td>SK</td>\n",
       "      <td>Tame hay</td>\n",
       "      <td>78.00</td>\n",
       "      <td>2870.0</td>\n",
       "      <td>2087000.0</td>\n",
       "      <td>1800000.0</td>\n",
       "      <td>728000.0</td>\n",
       "      <td>162786</td>\n",
       "    </tr>\n",
       "    <tr>\n",
       "      <th>10269</th>\n",
       "      <td>1984</td>\n",
       "      <td>SK</td>\n",
       "      <td>Wheat, all</td>\n",
       "      <td>176.00</td>\n",
       "      <td>1420.0</td>\n",
       "      <td>11485000.0</td>\n",
       "      <td>20000000.0</td>\n",
       "      <td>8094000.0</td>\n",
       "      <td>2026204</td>\n",
       "    </tr>\n",
       "    <tr>\n",
       "      <th>10270</th>\n",
       "      <td>1984</td>\n",
       "      <td>SK</td>\n",
       "      <td>Wheat, durum</td>\n",
       "      <td>188.00</td>\n",
       "      <td>1200.0</td>\n",
       "      <td>1633000.0</td>\n",
       "      <td>3350000.0</td>\n",
       "      <td>1356000.0</td>\n",
       "      <td>307004</td>\n",
       "    </tr>\n",
       "    <tr>\n",
       "      <th>10271</th>\n",
       "      <td>1984</td>\n",
       "      <td>SK</td>\n",
       "      <td>Wheat, spring</td>\n",
       "      <td>175.00</td>\n",
       "      <td>1460.0</td>\n",
       "      <td>9607000.0</td>\n",
       "      <td>16300000.0</td>\n",
       "      <td>6596000.0</td>\n",
       "      <td>1681225</td>\n",
       "    </tr>\n",
       "    <tr>\n",
       "      <th>10272</th>\n",
       "      <td>1984</td>\n",
       "      <td>SK</td>\n",
       "      <td>Wheat, winter remaining</td>\n",
       "      <td>155.00</td>\n",
       "      <td>1730.0</td>\n",
       "      <td>245000.0</td>\n",
       "      <td>NaN</td>\n",
       "      <td>NaN</td>\n",
       "      <td>37975</td>\n",
       "    </tr>\n",
       "  </tbody>\n",
       "</table>\n",
       "<p>10273 rows × 9 columns</p>\n",
       "</div>"
      ],
      "text/plain": [
       "       REF_DATE GEO             Type of crop  \\\n",
       "0          1908  AB                   Barley   \n",
       "1          1908  AB                 Flaxseed   \n",
       "2          1908  AB                     Oats   \n",
       "3          1908  AB                 Rye, all   \n",
       "4          1908  AB              Sugar beets   \n",
       "...         ...  ..                      ...   \n",
       "10268      1984  SK                 Tame hay   \n",
       "10269      1984  SK               Wheat, all   \n",
       "10270      1984  SK             Wheat, durum   \n",
       "10271      1984  SK            Wheat, spring   \n",
       "10272      1984  SK  Wheat, winter remaining   \n",
       "\n",
       "       Average farm price (dollars per tonne)  \\\n",
       "0                                       15.00   \n",
       "1                                       29.00   \n",
       "2                                       18.00   \n",
       "3                                       23.00   \n",
       "4                                        0.55   \n",
       "...                                       ...   \n",
       "10268                                   78.00   \n",
       "10269                                  176.00   \n",
       "10270                                  188.00   \n",
       "10271                                  175.00   \n",
       "10272                                  155.00   \n",
       "\n",
       "       Average yield (kilograms per hectare)  Production (metric tonnes)  \\\n",
       "0                                     1585.0                     84000.0   \n",
       "1                                      950.0                      1900.0   \n",
       "2                                     1675.0                    352000.0   \n",
       "3                                     1665.0                      5000.0   \n",
       "4                                    18100.0                     38100.0   \n",
       "...                                      ...                         ...   \n",
       "10268                                 2870.0                   2087000.0   \n",
       "10269                                 1420.0                  11485000.0   \n",
       "10270                                 1200.0                   1633000.0   \n",
       "10271                                 1460.0                   9607000.0   \n",
       "10272                                 1730.0                    245000.0   \n",
       "\n",
       "       Seeded area (acres)  Seeded area (hectares)  Total farm value (dollars)  \n",
       "0                 129800.0                 53000.0                        1296  \n",
       "1                   5900.0                  2000.0                          56  \n",
       "2                 519400.0                210000.0                        6316  \n",
       "3                   6500.0                  3000.0                         117  \n",
       "4                   5200.0                  2100.0                         208  \n",
       "...                    ...                     ...                         ...  \n",
       "10268            1800000.0                728000.0                      162786  \n",
       "10269           20000000.0               8094000.0                     2026204  \n",
       "10270            3350000.0               1356000.0                      307004  \n",
       "10271           16300000.0               6596000.0                     1681225  \n",
       "10272                  NaN                     NaN                       37975  \n",
       "\n",
       "[10273 rows x 9 columns]"
      ]
     },
     "execution_count": 44,
     "metadata": {},
     "output_type": "execute_result"
    }
   ],
   "source": [
    "import pandas as pd\n",
    "import numpy as np\n",
    "from sklearn.linear_model import LogisticRegression\n",
    "from sklearn.metrics import accuracy_score\n",
    "\n",
    "df = pd.read_csv(\"farm_production_dataset.csv\")\n",
    "df"
   ]
  },
  {
   "cell_type": "markdown",
   "id": "2841fd98-b22f-495c-ba8e-9e69a54ea50b",
   "metadata": {},
   "source": [
    "# Data Exploration"
   ]
  },
  {
   "cell_type": "code",
   "execution_count": 45,
   "id": "ae71bc83-0173-44e4-a3c8-efcf3767045b",
   "metadata": {},
   "outputs": [
    {
     "name": "stdout",
     "output_type": "stream",
     "text": [
      "Number of Rows: 10273\n",
      "Number of Columns: 9\n"
     ]
    }
   ],
   "source": [
    "print(f\"Number of Rows: {df.shape[0]}\\nNumber of Columns: {df.shape[1]}\")"
   ]
  },
  {
   "cell_type": "code",
   "execution_count": 46,
   "id": "573a4663-5c1d-4971-8379-4c51bdea9d95",
   "metadata": {},
   "outputs": [
    {
     "data": {
      "text/html": [
       "<div>\n",
       "<style scoped>\n",
       "    .dataframe tbody tr th:only-of-type {\n",
       "        vertical-align: middle;\n",
       "    }\n",
       "\n",
       "    .dataframe tbody tr th {\n",
       "        vertical-align: top;\n",
       "    }\n",
       "\n",
       "    .dataframe thead th {\n",
       "        text-align: right;\n",
       "    }\n",
       "</style>\n",
       "<table border=\"1\" class=\"dataframe\">\n",
       "  <thead>\n",
       "    <tr style=\"text-align: right;\">\n",
       "      <th></th>\n",
       "      <th>REF_DATE</th>\n",
       "      <th>GEO</th>\n",
       "      <th>Type of crop</th>\n",
       "      <th>Average farm price (dollars per tonne)</th>\n",
       "      <th>Average yield (kilograms per hectare)</th>\n",
       "      <th>Production (metric tonnes)</th>\n",
       "      <th>Seeded area (acres)</th>\n",
       "      <th>Seeded area (hectares)</th>\n",
       "      <th>Total farm value (dollars)</th>\n",
       "    </tr>\n",
       "  </thead>\n",
       "  <tbody>\n",
       "    <tr>\n",
       "      <th>0</th>\n",
       "      <td>1908</td>\n",
       "      <td>AB</td>\n",
       "      <td>Barley</td>\n",
       "      <td>15.00</td>\n",
       "      <td>1585.0</td>\n",
       "      <td>84000.0</td>\n",
       "      <td>129800.0</td>\n",
       "      <td>53000.0</td>\n",
       "      <td>1296</td>\n",
       "    </tr>\n",
       "    <tr>\n",
       "      <th>1</th>\n",
       "      <td>1908</td>\n",
       "      <td>AB</td>\n",
       "      <td>Flaxseed</td>\n",
       "      <td>29.00</td>\n",
       "      <td>950.0</td>\n",
       "      <td>1900.0</td>\n",
       "      <td>5900.0</td>\n",
       "      <td>2000.0</td>\n",
       "      <td>56</td>\n",
       "    </tr>\n",
       "    <tr>\n",
       "      <th>2</th>\n",
       "      <td>1908</td>\n",
       "      <td>AB</td>\n",
       "      <td>Oats</td>\n",
       "      <td>18.00</td>\n",
       "      <td>1675.0</td>\n",
       "      <td>352000.0</td>\n",
       "      <td>519400.0</td>\n",
       "      <td>210000.0</td>\n",
       "      <td>6316</td>\n",
       "    </tr>\n",
       "    <tr>\n",
       "      <th>3</th>\n",
       "      <td>1908</td>\n",
       "      <td>AB</td>\n",
       "      <td>Rye, all</td>\n",
       "      <td>23.00</td>\n",
       "      <td>1665.0</td>\n",
       "      <td>5000.0</td>\n",
       "      <td>6500.0</td>\n",
       "      <td>3000.0</td>\n",
       "      <td>117</td>\n",
       "    </tr>\n",
       "    <tr>\n",
       "      <th>4</th>\n",
       "      <td>1908</td>\n",
       "      <td>AB</td>\n",
       "      <td>Sugar beets</td>\n",
       "      <td>0.55</td>\n",
       "      <td>18100.0</td>\n",
       "      <td>38100.0</td>\n",
       "      <td>5200.0</td>\n",
       "      <td>2100.0</td>\n",
       "      <td>208</td>\n",
       "    </tr>\n",
       "    <tr>\n",
       "      <th>5</th>\n",
       "      <td>1908</td>\n",
       "      <td>AB</td>\n",
       "      <td>Tame hay</td>\n",
       "      <td>0.84</td>\n",
       "      <td>5050.0</td>\n",
       "      <td>101000.0</td>\n",
       "      <td>57100.0</td>\n",
       "      <td>20000.0</td>\n",
       "      <td>846</td>\n",
       "    </tr>\n",
       "  </tbody>\n",
       "</table>\n",
       "</div>"
      ],
      "text/plain": [
       "   REF_DATE GEO Type of crop  Average farm price (dollars per tonne)  \\\n",
       "0      1908  AB       Barley                                   15.00   \n",
       "1      1908  AB     Flaxseed                                   29.00   \n",
       "2      1908  AB         Oats                                   18.00   \n",
       "3      1908  AB     Rye, all                                   23.00   \n",
       "4      1908  AB  Sugar beets                                    0.55   \n",
       "5      1908  AB     Tame hay                                    0.84   \n",
       "\n",
       "   Average yield (kilograms per hectare)  Production (metric tonnes)  \\\n",
       "0                                 1585.0                     84000.0   \n",
       "1                                  950.0                      1900.0   \n",
       "2                                 1675.0                    352000.0   \n",
       "3                                 1665.0                      5000.0   \n",
       "4                                18100.0                     38100.0   \n",
       "5                                 5050.0                    101000.0   \n",
       "\n",
       "   Seeded area (acres)  Seeded area (hectares)  Total farm value (dollars)  \n",
       "0             129800.0                 53000.0                        1296  \n",
       "1               5900.0                  2000.0                          56  \n",
       "2             519400.0                210000.0                        6316  \n",
       "3               6500.0                  3000.0                         117  \n",
       "4               5200.0                  2100.0                         208  \n",
       "5              57100.0                 20000.0                         846  "
      ]
     },
     "execution_count": 46,
     "metadata": {},
     "output_type": "execute_result"
    }
   ],
   "source": [
    "df.head(6)"
   ]
  },
  {
   "cell_type": "code",
   "execution_count": 47,
   "id": "21ec7ee7-db74-490d-b2c7-2de146e222d7",
   "metadata": {},
   "outputs": [
    {
     "data": {
      "text/html": [
       "<div>\n",
       "<style scoped>\n",
       "    .dataframe tbody tr th:only-of-type {\n",
       "        vertical-align: middle;\n",
       "    }\n",
       "\n",
       "    .dataframe tbody tr th {\n",
       "        vertical-align: top;\n",
       "    }\n",
       "\n",
       "    .dataframe thead th {\n",
       "        text-align: right;\n",
       "    }\n",
       "</style>\n",
       "<table border=\"1\" class=\"dataframe\">\n",
       "  <thead>\n",
       "    <tr style=\"text-align: right;\">\n",
       "      <th></th>\n",
       "      <th>REF_DATE</th>\n",
       "      <th>GEO</th>\n",
       "      <th>Type of crop</th>\n",
       "      <th>Average farm price (dollars per tonne)</th>\n",
       "      <th>Average yield (kilograms per hectare)</th>\n",
       "      <th>Production (metric tonnes)</th>\n",
       "      <th>Seeded area (acres)</th>\n",
       "      <th>Seeded area (hectares)</th>\n",
       "      <th>Total farm value (dollars)</th>\n",
       "    </tr>\n",
       "  </thead>\n",
       "  <tbody>\n",
       "    <tr>\n",
       "      <th>10269</th>\n",
       "      <td>1984</td>\n",
       "      <td>SK</td>\n",
       "      <td>Wheat, all</td>\n",
       "      <td>176.0</td>\n",
       "      <td>1420.0</td>\n",
       "      <td>11485000.0</td>\n",
       "      <td>20000000.0</td>\n",
       "      <td>8094000.0</td>\n",
       "      <td>2026204</td>\n",
       "    </tr>\n",
       "    <tr>\n",
       "      <th>10270</th>\n",
       "      <td>1984</td>\n",
       "      <td>SK</td>\n",
       "      <td>Wheat, durum</td>\n",
       "      <td>188.0</td>\n",
       "      <td>1200.0</td>\n",
       "      <td>1633000.0</td>\n",
       "      <td>3350000.0</td>\n",
       "      <td>1356000.0</td>\n",
       "      <td>307004</td>\n",
       "    </tr>\n",
       "    <tr>\n",
       "      <th>10271</th>\n",
       "      <td>1984</td>\n",
       "      <td>SK</td>\n",
       "      <td>Wheat, spring</td>\n",
       "      <td>175.0</td>\n",
       "      <td>1460.0</td>\n",
       "      <td>9607000.0</td>\n",
       "      <td>16300000.0</td>\n",
       "      <td>6596000.0</td>\n",
       "      <td>1681225</td>\n",
       "    </tr>\n",
       "    <tr>\n",
       "      <th>10272</th>\n",
       "      <td>1984</td>\n",
       "      <td>SK</td>\n",
       "      <td>Wheat, winter remaining</td>\n",
       "      <td>155.0</td>\n",
       "      <td>1730.0</td>\n",
       "      <td>245000.0</td>\n",
       "      <td>NaN</td>\n",
       "      <td>NaN</td>\n",
       "      <td>37975</td>\n",
       "    </tr>\n",
       "  </tbody>\n",
       "</table>\n",
       "</div>"
      ],
      "text/plain": [
       "       REF_DATE GEO             Type of crop  \\\n",
       "10269      1984  SK               Wheat, all   \n",
       "10270      1984  SK             Wheat, durum   \n",
       "10271      1984  SK            Wheat, spring   \n",
       "10272      1984  SK  Wheat, winter remaining   \n",
       "\n",
       "       Average farm price (dollars per tonne)  \\\n",
       "10269                                   176.0   \n",
       "10270                                   188.0   \n",
       "10271                                   175.0   \n",
       "10272                                   155.0   \n",
       "\n",
       "       Average yield (kilograms per hectare)  Production (metric tonnes)  \\\n",
       "10269                                 1420.0                  11485000.0   \n",
       "10270                                 1200.0                   1633000.0   \n",
       "10271                                 1460.0                   9607000.0   \n",
       "10272                                 1730.0                    245000.0   \n",
       "\n",
       "       Seeded area (acres)  Seeded area (hectares)  Total farm value (dollars)  \n",
       "10269           20000000.0               8094000.0                     2026204  \n",
       "10270            3350000.0               1356000.0                      307004  \n",
       "10271           16300000.0               6596000.0                     1681225  \n",
       "10272                  NaN                     NaN                       37975  "
      ]
     },
     "execution_count": 47,
     "metadata": {},
     "output_type": "execute_result"
    }
   ],
   "source": [
    "df.tail(4)"
   ]
  },
  {
   "cell_type": "code",
   "execution_count": 48,
   "id": "dcb9574b-3d77-401e-966b-0f5b16c79b5c",
   "metadata": {},
   "outputs": [
    {
     "data": {
      "text/html": [
       "<div>\n",
       "<style scoped>\n",
       "    .dataframe tbody tr th:only-of-type {\n",
       "        vertical-align: middle;\n",
       "    }\n",
       "\n",
       "    .dataframe tbody tr th {\n",
       "        vertical-align: top;\n",
       "    }\n",
       "\n",
       "    .dataframe thead th {\n",
       "        text-align: right;\n",
       "    }\n",
       "</style>\n",
       "<table border=\"1\" class=\"dataframe\">\n",
       "  <thead>\n",
       "    <tr style=\"text-align: right;\">\n",
       "      <th></th>\n",
       "      <th>REF_DATE</th>\n",
       "      <th>Average farm price (dollars per tonne)</th>\n",
       "      <th>Average yield (kilograms per hectare)</th>\n",
       "      <th>Production (metric tonnes)</th>\n",
       "      <th>Seeded area (acres)</th>\n",
       "      <th>Seeded area (hectares)</th>\n",
       "      <th>Total farm value (dollars)</th>\n",
       "    </tr>\n",
       "  </thead>\n",
       "  <tbody>\n",
       "    <tr>\n",
       "      <th>count</th>\n",
       "      <td>10273.000000</td>\n",
       "      <td>10243.000000</td>\n",
       "      <td>10246.000000</td>\n",
       "      <td>1.024500e+04</td>\n",
       "      <td>9.873000e+03</td>\n",
       "      <td>9.847000e+03</td>\n",
       "      <td>1.027300e+04</td>\n",
       "    </tr>\n",
       "    <tr>\n",
       "      <th>mean</th>\n",
       "      <td>1947.661053</td>\n",
       "      <td>59.633078</td>\n",
       "      <td>3647.442319</td>\n",
       "      <td>1.010887e+06</td>\n",
       "      <td>1.310067e+06</td>\n",
       "      <td>5.316231e+05</td>\n",
       "      <td>5.490084e+04</td>\n",
       "    </tr>\n",
       "    <tr>\n",
       "      <th>std</th>\n",
       "      <td>22.204519</td>\n",
       "      <td>90.920549</td>\n",
       "      <td>8068.854966</td>\n",
       "      <td>3.044681e+06</td>\n",
       "      <td>4.881387e+06</td>\n",
       "      <td>1.978043e+06</td>\n",
       "      <td>2.502413e+05</td>\n",
       "    </tr>\n",
       "    <tr>\n",
       "      <th>min</th>\n",
       "      <td>1908.000000</td>\n",
       "      <td>0.000000</td>\n",
       "      <td>0.000000</td>\n",
       "      <td>0.000000e+00</td>\n",
       "      <td>0.000000e+00</td>\n",
       "      <td>0.000000e+00</td>\n",
       "      <td>0.000000e+00</td>\n",
       "    </tr>\n",
       "    <tr>\n",
       "      <th>25%</th>\n",
       "      <td>1929.000000</td>\n",
       "      <td>21.000000</td>\n",
       "      <td>1055.000000</td>\n",
       "      <td>8.300000e+03</td>\n",
       "      <td>1.050000e+04</td>\n",
       "      <td>4.350000e+03</td>\n",
       "      <td>3.690000e+02</td>\n",
       "    </tr>\n",
       "    <tr>\n",
       "      <th>50%</th>\n",
       "      <td>1948.000000</td>\n",
       "      <td>43.000000</td>\n",
       "      <td>1485.000000</td>\n",
       "      <td>7.195000e+04</td>\n",
       "      <td>8.300000e+04</td>\n",
       "      <td>3.400000e+04</td>\n",
       "      <td>3.006000e+03</td>\n",
       "    </tr>\n",
       "    <tr>\n",
       "      <th>75%</th>\n",
       "      <td>1967.000000</td>\n",
       "      <td>76.000000</td>\n",
       "      <td>2363.750000</td>\n",
       "      <td>5.480000e+05</td>\n",
       "      <td>5.831000e+05</td>\n",
       "      <td>2.389000e+05</td>\n",
       "      <td>1.954100e+04</td>\n",
       "    </tr>\n",
       "    <tr>\n",
       "      <th>max</th>\n",
       "      <td>1984.000000</td>\n",
       "      <td>6663.300000</td>\n",
       "      <td>460305.000000</td>\n",
       "      <td>1.336790e+08</td>\n",
       "      <td>3.172035e+08</td>\n",
       "      <td>1.283890e+08</td>\n",
       "      <td>4.654194e+06</td>\n",
       "    </tr>\n",
       "  </tbody>\n",
       "</table>\n",
       "</div>"
      ],
      "text/plain": [
       "           REF_DATE  Average farm price (dollars per tonne)  \\\n",
       "count  10273.000000                            10243.000000   \n",
       "mean    1947.661053                               59.633078   \n",
       "std       22.204519                               90.920549   \n",
       "min     1908.000000                                0.000000   \n",
       "25%     1929.000000                               21.000000   \n",
       "50%     1948.000000                               43.000000   \n",
       "75%     1967.000000                               76.000000   \n",
       "max     1984.000000                             6663.300000   \n",
       "\n",
       "       Average yield (kilograms per hectare)  Production (metric tonnes)  \\\n",
       "count                           10246.000000                1.024500e+04   \n",
       "mean                             3647.442319                1.010887e+06   \n",
       "std                              8068.854966                3.044681e+06   \n",
       "min                                 0.000000                0.000000e+00   \n",
       "25%                              1055.000000                8.300000e+03   \n",
       "50%                              1485.000000                7.195000e+04   \n",
       "75%                              2363.750000                5.480000e+05   \n",
       "max                            460305.000000                1.336790e+08   \n",
       "\n",
       "       Seeded area (acres)  Seeded area (hectares)  Total farm value (dollars)  \n",
       "count         9.873000e+03            9.847000e+03                1.027300e+04  \n",
       "mean          1.310067e+06            5.316231e+05                5.490084e+04  \n",
       "std           4.881387e+06            1.978043e+06                2.502413e+05  \n",
       "min           0.000000e+00            0.000000e+00                0.000000e+00  \n",
       "25%           1.050000e+04            4.350000e+03                3.690000e+02  \n",
       "50%           8.300000e+04            3.400000e+04                3.006000e+03  \n",
       "75%           5.831000e+05            2.389000e+05                1.954100e+04  \n",
       "max           3.172035e+08            1.283890e+08                4.654194e+06  "
      ]
     },
     "execution_count": 48,
     "metadata": {},
     "output_type": "execute_result"
    }
   ],
   "source": [
    "df.describe()"
   ]
  },
  {
   "cell_type": "code",
   "execution_count": 49,
   "id": "95bbc5bc-b7d2-46a7-a637-daa5b4d45738",
   "metadata": {},
   "outputs": [
    {
     "name": "stdout",
     "output_type": "stream",
     "text": [
      "<class 'pandas.core.frame.DataFrame'>\n",
      "RangeIndex: 10273 entries, 0 to 10272\n",
      "Data columns (total 9 columns):\n",
      " #   Column                                  Non-Null Count  Dtype  \n",
      "---  ------                                  --------------  -----  \n",
      " 0   REF_DATE                                10273 non-null  int64  \n",
      " 1   GEO                                     10273 non-null  object \n",
      " 2   Type of crop                            10272 non-null  object \n",
      " 3   Average farm price (dollars per tonne)  10243 non-null  float64\n",
      " 4   Average yield (kilograms per hectare)   10246 non-null  float64\n",
      " 5   Production (metric tonnes)              10245 non-null  float64\n",
      " 6   Seeded area (acres)                     9873 non-null   float64\n",
      " 7   Seeded area (hectares)                  9847 non-null   float64\n",
      " 8   Total farm value (dollars)              10273 non-null  int64  \n",
      "dtypes: float64(5), int64(2), object(2)\n",
      "memory usage: 722.4+ KB\n"
     ]
    }
   ],
   "source": [
    "df.info()"
   ]
  },
  {
   "cell_type": "code",
   "execution_count": 50,
   "id": "b5493dd9-ef61-459c-aeb4-8329e7e5c1c2",
   "metadata": {},
   "outputs": [
    {
     "data": {
      "text/plain": [
       "Index(['REF_DATE', 'GEO', 'Type of crop',\n",
       "       'Average farm price (dollars per tonne)',\n",
       "       'Average yield (kilograms per hectare)', 'Production (metric tonnes)',\n",
       "       'Seeded area (acres)', 'Seeded area (hectares)',\n",
       "       'Total farm value (dollars)'],\n",
       "      dtype='object')"
      ]
     },
     "execution_count": 50,
     "metadata": {},
     "output_type": "execute_result"
    }
   ],
   "source": [
    "df.columns"
   ]
  },
  {
   "cell_type": "code",
   "execution_count": 51,
   "id": "4fe90f6c-ce14-4813-b757-b547c8c00e36",
   "metadata": {},
   "outputs": [
    {
     "name": "stdout",
     "output_type": "stream",
     "text": [
      "REF_DATE\n",
      "GEO\n",
      "Type of crop\n",
      "Average farm price (dollars per tonne)\n",
      "Average yield (kilograms per hectare)\n",
      "Production (metric tonnes)\n",
      "Seeded area (acres)\n",
      "Seeded area (hectares)\n",
      "Total farm value (dollars)\n"
     ]
    }
   ],
   "source": [
    "for i in df.columns:\n",
    "    print(i)"
   ]
  },
  {
   "cell_type": "code",
   "execution_count": 52,
   "id": "b234ea27-b228-4cd4-bb2f-8147cc0d440a",
   "metadata": {},
   "outputs": [
    {
     "data": {
      "text/plain": [
       "REF_DATE                                  10273\n",
       "GEO                                       10273\n",
       "Type of crop                              10272\n",
       "Average farm price (dollars per tonne)    10243\n",
       "Average yield (kilograms per hectare)     10246\n",
       "Production (metric tonnes)                10245\n",
       "Seeded area (acres)                        9873\n",
       "Seeded area (hectares)                     9847\n",
       "Total farm value (dollars)                10273\n",
       "dtype: int64"
      ]
     },
     "execution_count": 52,
     "metadata": {},
     "output_type": "execute_result"
    }
   ],
   "source": [
    "df.count()"
   ]
  },
  {
   "cell_type": "code",
   "execution_count": 53,
   "id": "300cafa8-8983-4329-b351-bfb76e5f474e",
   "metadata": {},
   "outputs": [
    {
     "data": {
      "text/plain": [
       "array(['AB', 'BC', 'CA', 'MA', 'MP', 'NB', 'NS', 'ON', 'PP', 'PEI', 'QU',\n",
       "       'SK', ' ', 'NL'], dtype=object)"
      ]
     },
     "execution_count": 53,
     "metadata": {},
     "output_type": "execute_result"
    }
   ],
   "source": [
    "df['GEO'].unique()"
   ]
  },
  {
   "cell_type": "code",
   "execution_count": 54,
   "id": "9715261d-188f-445d-8b31-b25d0483d64d",
   "metadata": {},
   "outputs": [
    {
     "data": {
      "text/plain": [
       "REF_DATE                                    76\n",
       "GEO                                         14\n",
       "Type of crop                                23\n",
       "Average farm price (dollars per tonne)     829\n",
       "Average yield (kilograms per hectare)     1510\n",
       "Production (metric tonnes)                4697\n",
       "Seeded area (acres)                       4286\n",
       "Seeded area (hectares)                    3424\n",
       "Total farm value (dollars)                6576\n",
       "dtype: int64"
      ]
     },
     "execution_count": 54,
     "metadata": {},
     "output_type": "execute_result"
    }
   ],
   "source": [
    "df.nunique()"
   ]
  },
  {
   "cell_type": "code",
   "execution_count": 55,
   "id": "f7cadd5b-80ac-4d1e-8f4e-5ffeb6cee4fc",
   "metadata": {},
   "outputs": [
    {
     "data": {
      "text/plain": [
       "REF_DATE                                    0\n",
       "GEO                                         0\n",
       "Type of crop                                1\n",
       "Average farm price (dollars per tonne)     30\n",
       "Average yield (kilograms per hectare)      27\n",
       "Production (metric tonnes)                 28\n",
       "Seeded area (acres)                       400\n",
       "Seeded area (hectares)                    426\n",
       "Total farm value (dollars)                  0\n",
       "dtype: int64"
      ]
     },
     "execution_count": 55,
     "metadata": {},
     "output_type": "execute_result"
    }
   ],
   "source": [
    "df.isnull().sum()"
   ]
  },
  {
   "cell_type": "markdown",
   "id": "287ad274-ce93-45bc-833a-64b8cef86b66",
   "metadata": {},
   "source": [
    "# Data Pre-processing"
   ]
  },
  {
   "cell_type": "code",
   "execution_count": 56,
   "id": "3ff2d6eb-37e6-45b4-a2ae-61bac2e415c7",
   "metadata": {},
   "outputs": [
    {
     "name": "stdout",
     "output_type": "stream",
     "text": [
      "<class 'pandas.core.frame.DataFrame'>\n",
      "RangeIndex: 10273 entries, 0 to 10272\n",
      "Data columns (total 9 columns):\n",
      " #   Column                                  Non-Null Count  Dtype  \n",
      "---  ------                                  --------------  -----  \n",
      " 0   REF_DATE                                10273 non-null  int64  \n",
      " 1   GEO                                     10273 non-null  object \n",
      " 2   Type of crop                            10272 non-null  object \n",
      " 3   Average farm price (dollars per tonne)  10243 non-null  float64\n",
      " 4   Average yield (kilograms per hectare)   10246 non-null  float64\n",
      " 5   Production (metric tonnes)              10245 non-null  float64\n",
      " 6   Seeded area (acres)                     9873 non-null   float64\n",
      " 7   Seeded area (hectares)                  9847 non-null   float64\n",
      " 8   Total farm value (dollars)              10273 non-null  int64  \n",
      "dtypes: float64(5), int64(2), object(2)\n",
      "memory usage: 722.4+ KB\n"
     ]
    }
   ],
   "source": [
    "df.info()"
   ]
  },
  {
   "cell_type": "code",
   "execution_count": 57,
   "id": "6e670eff-c761-4593-a636-dcfea6e45ba6",
   "metadata": {},
   "outputs": [
    {
     "data": {
      "text/plain": [
       "REF_DATE                                    0\n",
       "GEO                                         0\n",
       "Type of crop                                1\n",
       "Average farm price (dollars per tonne)     30\n",
       "Average yield (kilograms per hectare)      27\n",
       "Production (metric tonnes)                 28\n",
       "Seeded area (acres)                       400\n",
       "Seeded area (hectares)                    426\n",
       "Total farm value (dollars)                  0\n",
       "dtype: int64"
      ]
     },
     "execution_count": 57,
     "metadata": {},
     "output_type": "execute_result"
    }
   ],
   "source": [
    "df.isnull().sum()"
   ]
  },
  {
   "cell_type": "code",
   "execution_count": 58,
   "id": "9e5b6391-b98c-44b2-ae81-361b20fb88a6",
   "metadata": {},
   "outputs": [
    {
     "data": {
      "text/plain": [
       "0"
      ]
     },
     "execution_count": 58,
     "metadata": {},
     "output_type": "execute_result"
    }
   ],
   "source": [
    "df['GEO'].isnull().sum()"
   ]
  },
  {
   "cell_type": "markdown",
   "id": "65410373-f6a4-4c17-96b2-3916ae672ae8",
   "metadata": {},
   "source": [
    "# Dealing with Null Values"
   ]
  },
  {
   "cell_type": "code",
   "execution_count": 59,
   "id": "f05dbc0d-7265-48bc-961f-68c74273ab22",
   "metadata": {},
   "outputs": [],
   "source": [
    "def fillNaMean(cols):\n",
    "    for i in cols:\n",
    "        df[i] = df[i].fillna(df[i].mean())\n",
    "\n",
    "columns = ['Average farm price (dollars per tonne)', 'Average yield (kilograms per hectare)', 'Production (metric tonnes)', 'Seeded area (acres)']\n",
    "fillNaMean(columns)"
   ]
  },
  {
   "cell_type": "code",
   "execution_count": 60,
   "id": "4279f299-83a0-4721-9bf3-caa5519ec678",
   "metadata": {},
   "outputs": [],
   "source": [
    "def fillNaMode(cols):\n",
    "    for i in cols:\n",
    "        df[i] = df[i].fillna(df[i].mode()[0])\n",
    "\n",
    "columns = ['Type of crop', 'Average farm price (dollars per tonne)', 'Seeded area (hectares)', 'Total farm value (dollars)']\n",
    "fillNaMode(columns)"
   ]
  },
  {
   "cell_type": "code",
   "execution_count": 61,
   "id": "8f216b34-ba87-4794-ac38-e458a5da4073",
   "metadata": {},
   "outputs": [
    {
     "data": {
      "text/plain": [
       "REF_DATE                                  0\n",
       "GEO                                       0\n",
       "Type of crop                              0\n",
       "Average farm price (dollars per tonne)    0\n",
       "Average yield (kilograms per hectare)     0\n",
       "Production (metric tonnes)                0\n",
       "Seeded area (acres)                       0\n",
       "Seeded area (hectares)                    0\n",
       "Total farm value (dollars)                0\n",
       "dtype: int64"
      ]
     },
     "execution_count": 61,
     "metadata": {},
     "output_type": "execute_result"
    }
   ],
   "source": [
    "df.isnull().sum()"
   ]
  },
  {
   "cell_type": "code",
   "execution_count": 62,
   "id": "de3d67bb-96fd-4b96-aa46-3282366dc532",
   "metadata": {},
   "outputs": [
    {
     "name": "stdout",
     "output_type": "stream",
     "text": [
      "<class 'pandas.core.frame.DataFrame'>\n",
      "RangeIndex: 10273 entries, 0 to 10272\n",
      "Data columns (total 9 columns):\n",
      " #   Column                                  Non-Null Count  Dtype  \n",
      "---  ------                                  --------------  -----  \n",
      " 0   REF_DATE                                10273 non-null  int64  \n",
      " 1   GEO                                     10273 non-null  object \n",
      " 2   Type of crop                            10273 non-null  object \n",
      " 3   Average farm price (dollars per tonne)  10273 non-null  float64\n",
      " 4   Average yield (kilograms per hectare)   10273 non-null  float64\n",
      " 5   Production (metric tonnes)              10273 non-null  float64\n",
      " 6   Seeded area (acres)                     10273 non-null  float64\n",
      " 7   Seeded area (hectares)                  10273 non-null  float64\n",
      " 8   Total farm value (dollars)              10273 non-null  int64  \n",
      "dtypes: float64(5), int64(2), object(2)\n",
      "memory usage: 722.4+ KB\n"
     ]
    }
   ],
   "source": [
    "df.info()"
   ]
  },
  {
   "cell_type": "code",
   "execution_count": 63,
   "id": "eb664c59-2019-4fb6-8011-3c3cd5be44cd",
   "metadata": {},
   "outputs": [],
   "source": [
    "def changeFloattoInt64(cols):\n",
    "    for i in cols:\n",
    "        df[i] = df[i].astype('int64')\n",
    "\n",
    "columns = ['Average farm price (dollars per tonne)', 'Average yield (kilograms per hectare)', 'Production (metric tonnes)', 'Seeded area (acres)', 'Seeded area (hectares)']\n",
    "changeFloattoInt64(columns)"
   ]
  },
  {
   "cell_type": "code",
   "execution_count": 64,
   "id": "ed247542-5ddf-4653-8210-5a7bffeaf4ce",
   "metadata": {},
   "outputs": [
    {
     "name": "stdout",
     "output_type": "stream",
     "text": [
      "<class 'pandas.core.frame.DataFrame'>\n",
      "RangeIndex: 10273 entries, 0 to 10272\n",
      "Data columns (total 9 columns):\n",
      " #   Column                                  Non-Null Count  Dtype \n",
      "---  ------                                  --------------  ----- \n",
      " 0   REF_DATE                                10273 non-null  int64 \n",
      " 1   GEO                                     10273 non-null  object\n",
      " 2   Type of crop                            10273 non-null  object\n",
      " 3   Average farm price (dollars per tonne)  10273 non-null  int64 \n",
      " 4   Average yield (kilograms per hectare)   10273 non-null  int64 \n",
      " 5   Production (metric tonnes)              10273 non-null  int64 \n",
      " 6   Seeded area (acres)                     10273 non-null  int64 \n",
      " 7   Seeded area (hectares)                  10273 non-null  int64 \n",
      " 8   Total farm value (dollars)              10273 non-null  int64 \n",
      "dtypes: int64(7), object(2)\n",
      "memory usage: 722.4+ KB\n"
     ]
    }
   ],
   "source": [
    "df.info()"
   ]
  },
  {
   "cell_type": "code",
   "execution_count": 65,
   "id": "b6fe3ddb-79f1-4a77-9e43-89198880df15",
   "metadata": {},
   "outputs": [],
   "source": [
    "df.drop('GEO', axis=1, inplace=True)\n",
    "df.drop('Type of crop', axis=1, inplace=True)"
   ]
  },
  {
   "cell_type": "code",
   "execution_count": 66,
   "id": "7915d6bd-8d31-4237-9716-2caac0ff9acf",
   "metadata": {},
   "outputs": [
    {
     "name": "stdout",
     "output_type": "stream",
     "text": [
      "<class 'pandas.core.frame.DataFrame'>\n",
      "RangeIndex: 10273 entries, 0 to 10272\n",
      "Data columns (total 7 columns):\n",
      " #   Column                                  Non-Null Count  Dtype\n",
      "---  ------                                  --------------  -----\n",
      " 0   REF_DATE                                10273 non-null  int64\n",
      " 1   Average farm price (dollars per tonne)  10273 non-null  int64\n",
      " 2   Average yield (kilograms per hectare)   10273 non-null  int64\n",
      " 3   Production (metric tonnes)              10273 non-null  int64\n",
      " 4   Seeded area (acres)                     10273 non-null  int64\n",
      " 5   Seeded area (hectares)                  10273 non-null  int64\n",
      " 6   Total farm value (dollars)              10273 non-null  int64\n",
      "dtypes: int64(7)\n",
      "memory usage: 561.9 KB\n"
     ]
    }
   ],
   "source": [
    "df.info()"
   ]
  },
  {
   "cell_type": "code",
   "execution_count": 67,
   "id": "b33e33dd-cbd8-40f8-b84f-37394bc5ba85",
   "metadata": {},
   "outputs": [],
   "source": [
    "df.to_csv(r'cleaned-data.csv', index=False, header=True)"
   ]
  },
  {
   "cell_type": "code",
   "execution_count": 68,
   "id": "b938b485-3125-4905-a12c-02257bc57843",
   "metadata": {},
   "outputs": [
    {
     "data": {
      "text/html": [
       "<div>\n",
       "<style scoped>\n",
       "    .dataframe tbody tr th:only-of-type {\n",
       "        vertical-align: middle;\n",
       "    }\n",
       "\n",
       "    .dataframe tbody tr th {\n",
       "        vertical-align: top;\n",
       "    }\n",
       "\n",
       "    .dataframe thead th {\n",
       "        text-align: right;\n",
       "    }\n",
       "</style>\n",
       "<table border=\"1\" class=\"dataframe\">\n",
       "  <thead>\n",
       "    <tr style=\"text-align: right;\">\n",
       "      <th></th>\n",
       "      <th>REF_DATE</th>\n",
       "      <th>Average farm price (dollars per tonne)</th>\n",
       "      <th>Average yield (kilograms per hectare)</th>\n",
       "      <th>Production (metric tonnes)</th>\n",
       "      <th>Seeded area (acres)</th>\n",
       "      <th>Seeded area (hectares)</th>\n",
       "      <th>Total farm value (dollars)</th>\n",
       "    </tr>\n",
       "  </thead>\n",
       "  <tbody>\n",
       "    <tr>\n",
       "      <th>0</th>\n",
       "      <td>1908</td>\n",
       "      <td>15</td>\n",
       "      <td>1585</td>\n",
       "      <td>84000</td>\n",
       "      <td>129800</td>\n",
       "      <td>53000</td>\n",
       "      <td>1296</td>\n",
       "    </tr>\n",
       "    <tr>\n",
       "      <th>1</th>\n",
       "      <td>1908</td>\n",
       "      <td>29</td>\n",
       "      <td>950</td>\n",
       "      <td>1900</td>\n",
       "      <td>5900</td>\n",
       "      <td>2000</td>\n",
       "      <td>56</td>\n",
       "    </tr>\n",
       "  </tbody>\n",
       "</table>\n",
       "</div>"
      ],
      "text/plain": [
       "   REF_DATE  Average farm price (dollars per tonne)  \\\n",
       "0      1908                                      15   \n",
       "1      1908                                      29   \n",
       "\n",
       "   Average yield (kilograms per hectare)  Production (metric tonnes)  \\\n",
       "0                                   1585                       84000   \n",
       "1                                    950                        1900   \n",
       "\n",
       "   Seeded area (acres)  Seeded area (hectares)  Total farm value (dollars)  \n",
       "0               129800                   53000                        1296  \n",
       "1                 5900                    2000                          56  "
      ]
     },
     "execution_count": 68,
     "metadata": {},
     "output_type": "execute_result"
    }
   ],
   "source": [
    "df.head(2)"
   ]
  },
  {
   "cell_type": "markdown",
   "id": "7027c5e0-fdd9-4a32-b384-f50a04fdf447",
   "metadata": {},
   "source": [
    "# Data Splitting / Train-Test Split"
   ]
  },
  {
   "cell_type": "code",
   "execution_count": 106,
   "id": "fa815e85-2b17-4782-bfe7-330b4eee761e",
   "metadata": {},
   "outputs": [],
   "source": [
    "X = df.iloc()[:, :-1]\n",
    "y = df.iloc()[:, -1]"
   ]
  },
  {
   "cell_type": "code",
   "execution_count": 107,
   "id": "75c41392-4058-4d5f-b3c9-c16666ec03da",
   "metadata": {},
   "outputs": [],
   "source": [
    "from sklearn.model_selection import train_test_split\n",
    "X_train, X_test, y_train, y_test = train_test_split(X, y, test_size=0.2, shuffle=False)"
   ]
  },
  {
   "cell_type": "code",
   "execution_count": 108,
   "id": "b8540674-4ec9-4061-88c4-ae17e1a3128f",
   "metadata": {},
   "outputs": [
    {
     "data": {
      "text/html": [
       "<div>\n",
       "<style scoped>\n",
       "    .dataframe tbody tr th:only-of-type {\n",
       "        vertical-align: middle;\n",
       "    }\n",
       "\n",
       "    .dataframe tbody tr th {\n",
       "        vertical-align: top;\n",
       "    }\n",
       "\n",
       "    .dataframe thead th {\n",
       "        text-align: right;\n",
       "    }\n",
       "</style>\n",
       "<table border=\"1\" class=\"dataframe\">\n",
       "  <thead>\n",
       "    <tr style=\"text-align: right;\">\n",
       "      <th></th>\n",
       "      <th>REF_DATE</th>\n",
       "      <th>Average farm price (dollars per tonne)</th>\n",
       "      <th>Average yield (kilograms per hectare)</th>\n",
       "      <th>Production (metric tonnes)</th>\n",
       "      <th>Seeded area (acres)</th>\n",
       "      <th>Seeded area (hectares)</th>\n",
       "    </tr>\n",
       "  </thead>\n",
       "  <tbody>\n",
       "    <tr>\n",
       "      <th>0</th>\n",
       "      <td>1908</td>\n",
       "      <td>15</td>\n",
       "      <td>1585</td>\n",
       "      <td>84000</td>\n",
       "      <td>129800</td>\n",
       "      <td>53000</td>\n",
       "    </tr>\n",
       "    <tr>\n",
       "      <th>1</th>\n",
       "      <td>1908</td>\n",
       "      <td>29</td>\n",
       "      <td>950</td>\n",
       "      <td>1900</td>\n",
       "      <td>5900</td>\n",
       "      <td>2000</td>\n",
       "    </tr>\n",
       "    <tr>\n",
       "      <th>2</th>\n",
       "      <td>1908</td>\n",
       "      <td>18</td>\n",
       "      <td>1675</td>\n",
       "      <td>352000</td>\n",
       "      <td>519400</td>\n",
       "      <td>210000</td>\n",
       "    </tr>\n",
       "    <tr>\n",
       "      <th>3</th>\n",
       "      <td>1908</td>\n",
       "      <td>23</td>\n",
       "      <td>1665</td>\n",
       "      <td>5000</td>\n",
       "      <td>6500</td>\n",
       "      <td>3000</td>\n",
       "    </tr>\n",
       "    <tr>\n",
       "      <th>4</th>\n",
       "      <td>1908</td>\n",
       "      <td>0</td>\n",
       "      <td>18100</td>\n",
       "      <td>38100</td>\n",
       "      <td>5200</td>\n",
       "      <td>2100</td>\n",
       "    </tr>\n",
       "    <tr>\n",
       "      <th>...</th>\n",
       "      <td>...</td>\n",
       "      <td>...</td>\n",
       "      <td>...</td>\n",
       "      <td>...</td>\n",
       "      <td>...</td>\n",
       "      <td>...</td>\n",
       "    </tr>\n",
       "    <tr>\n",
       "      <th>8213</th>\n",
       "      <td>1971</td>\n",
       "      <td>97</td>\n",
       "      <td>795</td>\n",
       "      <td>11300</td>\n",
       "      <td>35000</td>\n",
       "      <td>14200</td>\n",
       "    </tr>\n",
       "    <tr>\n",
       "      <th>8214</th>\n",
       "      <td>1971</td>\n",
       "      <td>10</td>\n",
       "      <td>39620</td>\n",
       "      <td>210000</td>\n",
       "      <td>13000</td>\n",
       "      <td>5300</td>\n",
       "    </tr>\n",
       "    <tr>\n",
       "      <th>8215</th>\n",
       "      <td>1971</td>\n",
       "      <td>70</td>\n",
       "      <td>1000</td>\n",
       "      <td>100</td>\n",
       "      <td>300</td>\n",
       "      <td>100</td>\n",
       "    </tr>\n",
       "    <tr>\n",
       "      <th>8216</th>\n",
       "      <td>1971</td>\n",
       "      <td>57</td>\n",
       "      <td>2560</td>\n",
       "      <td>7300</td>\n",
       "      <td>7000</td>\n",
       "      <td>2850</td>\n",
       "    </tr>\n",
       "    <tr>\n",
       "      <th>8217</th>\n",
       "      <td>1971</td>\n",
       "      <td>32</td>\n",
       "      <td>2200</td>\n",
       "      <td>79900</td>\n",
       "      <td>89600</td>\n",
       "      <td>36300</td>\n",
       "    </tr>\n",
       "  </tbody>\n",
       "</table>\n",
       "<p>8218 rows × 6 columns</p>\n",
       "</div>"
      ],
      "text/plain": [
       "      REF_DATE  Average farm price (dollars per tonne)  \\\n",
       "0         1908                                      15   \n",
       "1         1908                                      29   \n",
       "2         1908                                      18   \n",
       "3         1908                                      23   \n",
       "4         1908                                       0   \n",
       "...        ...                                     ...   \n",
       "8213      1971                                      97   \n",
       "8214      1971                                      10   \n",
       "8215      1971                                      70   \n",
       "8216      1971                                      57   \n",
       "8217      1971                                      32   \n",
       "\n",
       "      Average yield (kilograms per hectare)  Production (metric tonnes)  \\\n",
       "0                                      1585                       84000   \n",
       "1                                       950                        1900   \n",
       "2                                      1675                      352000   \n",
       "3                                      1665                        5000   \n",
       "4                                     18100                       38100   \n",
       "...                                     ...                         ...   \n",
       "8213                                    795                       11300   \n",
       "8214                                  39620                      210000   \n",
       "8215                                   1000                         100   \n",
       "8216                                   2560                        7300   \n",
       "8217                                   2200                       79900   \n",
       "\n",
       "      Seeded area (acres)  Seeded area (hectares)  \n",
       "0                  129800                   53000  \n",
       "1                    5900                    2000  \n",
       "2                  519400                  210000  \n",
       "3                    6500                    3000  \n",
       "4                    5200                    2100  \n",
       "...                   ...                     ...  \n",
       "8213                35000                   14200  \n",
       "8214                13000                    5300  \n",
       "8215                  300                     100  \n",
       "8216                 7000                    2850  \n",
       "8217                89600                   36300  \n",
       "\n",
       "[8218 rows x 6 columns]"
      ]
     },
     "execution_count": 108,
     "metadata": {},
     "output_type": "execute_result"
    }
   ],
   "source": [
    "X_train"
   ]
  },
  {
   "cell_type": "code",
   "execution_count": 109,
   "id": "c46f2acb-12d4-44cd-b179-ad58906d677c",
   "metadata": {},
   "outputs": [
    {
     "data": {
      "text/plain": [
       "0       1296\n",
       "1         56\n",
       "2       6316\n",
       "3        117\n",
       "4        208\n",
       "        ... \n",
       "8213    1095\n",
       "8214    2194\n",
       "8215       7\n",
       "8216     415\n",
       "8217    2590\n",
       "Name: Total farm value (dollars), Length: 8218, dtype: int64"
      ]
     },
     "execution_count": 109,
     "metadata": {},
     "output_type": "execute_result"
    }
   ],
   "source": [
    "y_train"
   ]
  },
  {
   "cell_type": "code",
   "execution_count": 110,
   "id": "cccfee94-7929-4291-8c81-d484c80cb8c0",
   "metadata": {},
   "outputs": [
    {
     "data": {
      "text/html": [
       "<div>\n",
       "<style scoped>\n",
       "    .dataframe tbody tr th:only-of-type {\n",
       "        vertical-align: middle;\n",
       "    }\n",
       "\n",
       "    .dataframe tbody tr th {\n",
       "        vertical-align: top;\n",
       "    }\n",
       "\n",
       "    .dataframe thead th {\n",
       "        text-align: right;\n",
       "    }\n",
       "</style>\n",
       "<table border=\"1\" class=\"dataframe\">\n",
       "  <thead>\n",
       "    <tr style=\"text-align: right;\">\n",
       "      <th></th>\n",
       "      <th>REF_DATE</th>\n",
       "      <th>Average farm price (dollars per tonne)</th>\n",
       "      <th>Average yield (kilograms per hectare)</th>\n",
       "      <th>Production (metric tonnes)</th>\n",
       "      <th>Seeded area (acres)</th>\n",
       "      <th>Seeded area (hectares)</th>\n",
       "    </tr>\n",
       "  </thead>\n",
       "  <tbody>\n",
       "    <tr>\n",
       "      <th>8218</th>\n",
       "      <td>1971</td>\n",
       "      <td>62</td>\n",
       "      <td>2350</td>\n",
       "      <td>2350</td>\n",
       "      <td>2400</td>\n",
       "      <td>1000</td>\n",
       "    </tr>\n",
       "    <tr>\n",
       "      <th>8219</th>\n",
       "      <td>1971</td>\n",
       "      <td>33</td>\n",
       "      <td>2335</td>\n",
       "      <td>1400</td>\n",
       "      <td>1400</td>\n",
       "      <td>600</td>\n",
       "    </tr>\n",
       "    <tr>\n",
       "      <th>8220</th>\n",
       "      <td>1971</td>\n",
       "      <td>30</td>\n",
       "      <td>6800</td>\n",
       "      <td>1415000</td>\n",
       "      <td>513000</td>\n",
       "      <td>208000</td>\n",
       "    </tr>\n",
       "    <tr>\n",
       "      <th>8221</th>\n",
       "      <td>1971</td>\n",
       "      <td>46</td>\n",
       "      <td>2045</td>\n",
       "      <td>90200</td>\n",
       "      <td>109000</td>\n",
       "      <td>44100</td>\n",
       "    </tr>\n",
       "    <tr>\n",
       "      <th>8222</th>\n",
       "      <td>1971</td>\n",
       "      <td>32</td>\n",
       "      <td>2315</td>\n",
       "      <td>13099250</td>\n",
       "      <td>13980500</td>\n",
       "      <td>5657500</td>\n",
       "    </tr>\n",
       "    <tr>\n",
       "      <th>...</th>\n",
       "      <td>...</td>\n",
       "      <td>...</td>\n",
       "      <td>...</td>\n",
       "      <td>...</td>\n",
       "      <td>...</td>\n",
       "      <td>...</td>\n",
       "    </tr>\n",
       "    <tr>\n",
       "      <th>10268</th>\n",
       "      <td>1984</td>\n",
       "      <td>78</td>\n",
       "      <td>2870</td>\n",
       "      <td>2087000</td>\n",
       "      <td>1800000</td>\n",
       "      <td>728000</td>\n",
       "    </tr>\n",
       "    <tr>\n",
       "      <th>10269</th>\n",
       "      <td>1984</td>\n",
       "      <td>176</td>\n",
       "      <td>1420</td>\n",
       "      <td>11485000</td>\n",
       "      <td>20000000</td>\n",
       "      <td>8094000</td>\n",
       "    </tr>\n",
       "    <tr>\n",
       "      <th>10270</th>\n",
       "      <td>1984</td>\n",
       "      <td>188</td>\n",
       "      <td>1200</td>\n",
       "      <td>1633000</td>\n",
       "      <td>3350000</td>\n",
       "      <td>1356000</td>\n",
       "    </tr>\n",
       "    <tr>\n",
       "      <th>10271</th>\n",
       "      <td>1984</td>\n",
       "      <td>175</td>\n",
       "      <td>1460</td>\n",
       "      <td>9607000</td>\n",
       "      <td>16300000</td>\n",
       "      <td>6596000</td>\n",
       "    </tr>\n",
       "    <tr>\n",
       "      <th>10272</th>\n",
       "      <td>1984</td>\n",
       "      <td>155</td>\n",
       "      <td>1730</td>\n",
       "      <td>245000</td>\n",
       "      <td>1310066</td>\n",
       "      <td>0</td>\n",
       "    </tr>\n",
       "  </tbody>\n",
       "</table>\n",
       "<p>2055 rows × 6 columns</p>\n",
       "</div>"
      ],
      "text/plain": [
       "       REF_DATE  Average farm price (dollars per tonne)  \\\n",
       "8218       1971                                      62   \n",
       "8219       1971                                      33   \n",
       "8220       1971                                      30   \n",
       "8221       1971                                      46   \n",
       "8222       1971                                      32   \n",
       "...         ...                                     ...   \n",
       "10268      1984                                      78   \n",
       "10269      1984                                     176   \n",
       "10270      1984                                     188   \n",
       "10271      1984                                     175   \n",
       "10272      1984                                     155   \n",
       "\n",
       "       Average yield (kilograms per hectare)  Production (metric tonnes)  \\\n",
       "8218                                    2350                        2350   \n",
       "8219                                    2335                        1400   \n",
       "8220                                    6800                     1415000   \n",
       "8221                                    2045                       90200   \n",
       "8222                                    2315                    13099250   \n",
       "...                                      ...                         ...   \n",
       "10268                                   2870                     2087000   \n",
       "10269                                   1420                    11485000   \n",
       "10270                                   1200                     1633000   \n",
       "10271                                   1460                     9607000   \n",
       "10272                                   1730                      245000   \n",
       "\n",
       "       Seeded area (acres)  Seeded area (hectares)  \n",
       "8218                  2400                    1000  \n",
       "8219                  1400                     600  \n",
       "8220                513000                  208000  \n",
       "8221                109000                   44100  \n",
       "8222              13980500                 5657500  \n",
       "...                    ...                     ...  \n",
       "10268              1800000                  728000  \n",
       "10269             20000000                 8094000  \n",
       "10270              3350000                 1356000  \n",
       "10271             16300000                 6596000  \n",
       "10272              1310066                       0  \n",
       "\n",
       "[2055 rows x 6 columns]"
      ]
     },
     "execution_count": 110,
     "metadata": {},
     "output_type": "execute_result"
    }
   ],
   "source": [
    "X_test"
   ]
  },
  {
   "cell_type": "code",
   "execution_count": 111,
   "id": "20584a56-9d17-42cb-9c94-69b8b51cc98d",
   "metadata": {},
   "outputs": [
    {
     "data": {
      "text/plain": [
       "8218         146\n",
       "8219          46\n",
       "8220       42510\n",
       "8221        4176\n",
       "8222      412641\n",
       "          ...   \n",
       "10268     162786\n",
       "10269    2026204\n",
       "10270     307004\n",
       "10271    1681225\n",
       "10272      37975\n",
       "Name: Total farm value (dollars), Length: 2055, dtype: int64"
      ]
     },
     "execution_count": 111,
     "metadata": {},
     "output_type": "execute_result"
    }
   ],
   "source": [
    "y_test"
   ]
  },
  {
   "cell_type": "code",
   "execution_count": 112,
   "id": "aa90464a-9c7b-41cb-b8b3-e48c4038910f",
   "metadata": {},
   "outputs": [
    {
     "name": "stdout",
     "output_type": "stream",
     "text": [
      "TrainX: (8218, 6)\n",
      "TrainY: (8218,)\n",
      "TestX: (2055, 6)\n",
      "TestY: (2055,)\n"
     ]
    }
   ],
   "source": [
    "print(\"TrainX:\",X_train.shape)\n",
    "print(\"TrainY:\",y_train.shape)\n",
    "print(\"TestX:\",X_test.shape)\n",
    "print(\"TestY:\",y_test.shape)"
   ]
  },
  {
   "cell_type": "markdown",
   "id": "e4603977-a78f-43a9-b091-2b38112f599c",
   "metadata": {},
   "source": [
    "# Training/Apply Regressor "
   ]
  },
  {
   "cell_type": "code",
   "execution_count": 113,
   "id": "1f4af310-642e-4dc7-a38a-90d791f2fd70",
   "metadata": {},
   "outputs": [],
   "source": [
    "model = LogisticRegression()"
   ]
  },
  {
   "cell_type": "code",
   "execution_count": 114,
   "id": "619b8a25-23cd-417a-b404-e87216fb204b",
   "metadata": {},
   "outputs": [
    {
     "name": "stderr",
     "output_type": "stream",
     "text": [
      "C:\\ProgramData\\anaconda3\\Lib\\site-packages\\sklearn\\linear_model\\_logistic.py:458: ConvergenceWarning: lbfgs failed to converge (status=1):\n",
      "STOP: TOTAL NO. of ITERATIONS REACHED LIMIT.\n",
      "\n",
      "Increase the number of iterations (max_iter) or scale the data as shown in:\n",
      "    https://scikit-learn.org/stable/modules/preprocessing.html\n",
      "Please also refer to the documentation for alternative solver options:\n",
      "    https://scikit-learn.org/stable/modules/linear_model.html#logistic-regression\n",
      "  n_iter_i = _check_optimize_result(\n"
     ]
    },
    {
     "data": {
      "text/html": [
       "<style>#sk-container-id-4 {color: black;background-color: white;}#sk-container-id-4 pre{padding: 0;}#sk-container-id-4 div.sk-toggleable {background-color: white;}#sk-container-id-4 label.sk-toggleable__label {cursor: pointer;display: block;width: 100%;margin-bottom: 0;padding: 0.3em;box-sizing: border-box;text-align: center;}#sk-container-id-4 label.sk-toggleable__label-arrow:before {content: \"▸\";float: left;margin-right: 0.25em;color: #696969;}#sk-container-id-4 label.sk-toggleable__label-arrow:hover:before {color: black;}#sk-container-id-4 div.sk-estimator:hover label.sk-toggleable__label-arrow:before {color: black;}#sk-container-id-4 div.sk-toggleable__content {max-height: 0;max-width: 0;overflow: hidden;text-align: left;background-color: #f0f8ff;}#sk-container-id-4 div.sk-toggleable__content pre {margin: 0.2em;color: black;border-radius: 0.25em;background-color: #f0f8ff;}#sk-container-id-4 input.sk-toggleable__control:checked~div.sk-toggleable__content {max-height: 200px;max-width: 100%;overflow: auto;}#sk-container-id-4 input.sk-toggleable__control:checked~label.sk-toggleable__label-arrow:before {content: \"▾\";}#sk-container-id-4 div.sk-estimator input.sk-toggleable__control:checked~label.sk-toggleable__label {background-color: #d4ebff;}#sk-container-id-4 div.sk-label input.sk-toggleable__control:checked~label.sk-toggleable__label {background-color: #d4ebff;}#sk-container-id-4 input.sk-hidden--visually {border: 0;clip: rect(1px 1px 1px 1px);clip: rect(1px, 1px, 1px, 1px);height: 1px;margin: -1px;overflow: hidden;padding: 0;position: absolute;width: 1px;}#sk-container-id-4 div.sk-estimator {font-family: monospace;background-color: #f0f8ff;border: 1px dotted black;border-radius: 0.25em;box-sizing: border-box;margin-bottom: 0.5em;}#sk-container-id-4 div.sk-estimator:hover {background-color: #d4ebff;}#sk-container-id-4 div.sk-parallel-item::after {content: \"\";width: 100%;border-bottom: 1px solid gray;flex-grow: 1;}#sk-container-id-4 div.sk-label:hover label.sk-toggleable__label {background-color: #d4ebff;}#sk-container-id-4 div.sk-serial::before {content: \"\";position: absolute;border-left: 1px solid gray;box-sizing: border-box;top: 0;bottom: 0;left: 50%;z-index: 0;}#sk-container-id-4 div.sk-serial {display: flex;flex-direction: column;align-items: center;background-color: white;padding-right: 0.2em;padding-left: 0.2em;position: relative;}#sk-container-id-4 div.sk-item {position: relative;z-index: 1;}#sk-container-id-4 div.sk-parallel {display: flex;align-items: stretch;justify-content: center;background-color: white;position: relative;}#sk-container-id-4 div.sk-item::before, #sk-container-id-4 div.sk-parallel-item::before {content: \"\";position: absolute;border-left: 1px solid gray;box-sizing: border-box;top: 0;bottom: 0;left: 50%;z-index: -1;}#sk-container-id-4 div.sk-parallel-item {display: flex;flex-direction: column;z-index: 1;position: relative;background-color: white;}#sk-container-id-4 div.sk-parallel-item:first-child::after {align-self: flex-end;width: 50%;}#sk-container-id-4 div.sk-parallel-item:last-child::after {align-self: flex-start;width: 50%;}#sk-container-id-4 div.sk-parallel-item:only-child::after {width: 0;}#sk-container-id-4 div.sk-dashed-wrapped {border: 1px dashed gray;margin: 0 0.4em 0.5em 0.4em;box-sizing: border-box;padding-bottom: 0.4em;background-color: white;}#sk-container-id-4 div.sk-label label {font-family: monospace;font-weight: bold;display: inline-block;line-height: 1.2em;}#sk-container-id-4 div.sk-label-container {text-align: center;}#sk-container-id-4 div.sk-container {/* jupyter's `normalize.less` sets `[hidden] { display: none; }` but bootstrap.min.css set `[hidden] { display: none !important; }` so we also need the `!important` here to be able to override the default hidden behavior on the sphinx rendered scikit-learn.org. See: https://github.com/scikit-learn/scikit-learn/issues/21755 */display: inline-block !important;position: relative;}#sk-container-id-4 div.sk-text-repr-fallback {display: none;}</style><div id=\"sk-container-id-4\" class=\"sk-top-container\"><div class=\"sk-text-repr-fallback\"><pre>LogisticRegression()</pre><b>In a Jupyter environment, please rerun this cell to show the HTML representation or trust the notebook. <br />On GitHub, the HTML representation is unable to render, please try loading this page with nbviewer.org.</b></div><div class=\"sk-container\" hidden><div class=\"sk-item\"><div class=\"sk-estimator sk-toggleable\"><input class=\"sk-toggleable__control sk-hidden--visually\" id=\"sk-estimator-id-4\" type=\"checkbox\" checked><label for=\"sk-estimator-id-4\" class=\"sk-toggleable__label sk-toggleable__label-arrow\">LogisticRegression</label><div class=\"sk-toggleable__content\"><pre>LogisticRegression()</pre></div></div></div></div></div>"
      ],
      "text/plain": [
       "LogisticRegression()"
      ]
     },
     "execution_count": 114,
     "metadata": {},
     "output_type": "execute_result"
    }
   ],
   "source": [
    "model.fit(X_train, y_train)"
   ]
  },
  {
   "cell_type": "code",
   "execution_count": 115,
   "id": "d1b9359a-5553-4c5b-830b-7ee5537efca9",
   "metadata": {},
   "outputs": [],
   "source": [
    "X_train_prediction = model.predict(X_train)"
   ]
  },
  {
   "cell_type": "code",
   "execution_count": 122,
   "id": "98c09f68-177f-418e-b13d-30003721d9e3",
   "metadata": {},
   "outputs": [],
   "source": [
    "import pickle\n",
    "\n",
    "pickle.dump(model, open(\"model.pkl\", \"wb\"))"
   ]
  },
  {
   "cell_type": "code",
   "execution_count": 123,
   "id": "5fff5fc3-aee9-4558-b179-ab6a0ce29db3",
   "metadata": {},
   "outputs": [
    {
     "name": "stdout",
     "output_type": "stream",
     "text": [
      "[1259323 3311439 1259323 ...       0  149091 1259323]\n"
     ]
    }
   ],
   "source": [
    "print(X_train_prediction)"
   ]
  },
  {
   "cell_type": "code",
   "execution_count": 124,
   "id": "4998e958-5172-4f63-a7c5-c068f3b7b672",
   "metadata": {},
   "outputs": [
    {
     "name": "stdout",
     "output_type": "stream",
     "text": [
      "Accuracy Score of Training Data:  0.03869554636164517\n"
     ]
    }
   ],
   "source": [
    "training_data_accuracy = accuracy_score(X_train_prediction, y_train)\n",
    "print('Accuracy Score of Training Data: ', training_data_accuracy)"
   ]
  },
  {
   "cell_type": "code",
   "execution_count": 125,
   "id": "f9df2a2f-1f5e-46f4-ad44-403c158d8748",
   "metadata": {},
   "outputs": [],
   "source": [
    "# Accuracy on test data\n",
    "X_test_prediction = model.predict(X_test)"
   ]
  },
  {
   "cell_type": "code",
   "execution_count": 126,
   "id": "3db861ca-c5c5-4077-9eec-2dcf6c6b0f65",
   "metadata": {},
   "outputs": [
    {
     "name": "stdout",
     "output_type": "stream",
     "text": [
      "[      0       0  512731 ...  920100 1224830     458]\n"
     ]
    }
   ],
   "source": [
    "print(X_test_prediction)"
   ]
  },
  {
   "cell_type": "code",
   "execution_count": 127,
   "id": "bf9b9647-b18c-4b81-8d94-b4f96e8a1348",
   "metadata": {},
   "outputs": [
    {
     "name": "stdout",
     "output_type": "stream",
     "text": [
      "Accuracy score of test data :  0.01800486618004866\n"
     ]
    }
   ],
   "source": [
    "test_data_accuracy = accuracy_score(y_test, X_test_prediction)\n",
    "print('Accuracy score of test data : ', test_data_accuracy)"
   ]
  }
 ],
 "metadata": {
  "kernelspec": {
   "display_name": "Python 3 (ipykernel)",
   "language": "python",
   "name": "python3"
  },
  "language_info": {
   "codemirror_mode": {
    "name": "ipython",
    "version": 3
   },
   "file_extension": ".py",
   "mimetype": "text/x-python",
   "name": "python",
   "nbconvert_exporter": "python",
   "pygments_lexer": "ipython3",
   "version": "3.11.7"
  }
 },
 "nbformat": 4,
 "nbformat_minor": 5
}
