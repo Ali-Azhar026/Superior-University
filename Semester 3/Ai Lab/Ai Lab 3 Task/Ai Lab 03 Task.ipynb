{
 "cells": [
  {
   "cell_type": "markdown",
   "id": "124dd03e-c930-4e6c-b47a-81411fd243cd",
   "metadata": {},
   "source": [
    "## ¬@Task 01(Model-Based Reflex Agent)"
   ]
  },
  {
   "cell_type": "code",
   "execution_count": 3,
   "id": "d05decfc-91ab-468d-b29d-4218e84b16a7",
   "metadata": {},
   "outputs": [
    {
     "name": "stdin",
     "output_type": "stream",
     "text": [
      "Enter the desired temperature:  12\n",
      "Enter current Temperature:   23\n"
     ]
    },
    {
     "name": "stdout",
     "output_type": "stream",
     "text": [
      "Temprature23, Action: Turn the Heater off\n",
      "Room: Living Room-- Temprature16, Action: Turn the Heater off\n",
      "Room: Bedroom-- Temprature20, Action: Turn the Heater off\n",
      "Room: Drawing room-- Temprature18, Action: Turn the Heater off\n",
      "Room: Bathroom-- Temprature22, Action: Turn the Heater off\n"
     ]
    }
   ],
   "source": [
    "class Simple_reflex_agents:\n",
    "    def __init__(self, temp):\n",
    "        self.desired_temp = temp\n",
    "    def percieve(self):\n",
    "        return int(input(\"Enter current Temperature:  \"))\n",
    "    def act(self, temp):\n",
    "        if temp > self.desired_temp:\n",
    "            print(f\"Temprature{temp}, Action: Turn the Heater off\")\n",
    "        else:\n",
    "            print(f\"Temperature{temp}, Action: Turn the Heater on\")\n",
    "\n",
    "desired_temp = int(input(\"Enter the desired temperature: \"))\n",
    "agent = Simple_reflex_agents(desired_temp)\n",
    "\n",
    "\n",
    "current_temp = agent.percieve()\n",
    "agent.act(current_temp)\n",
    "\n",
    "rooms = {\n",
    "    \"Living Room\": 16,\n",
    "    \"Bedroom\" : 20,\n",
    "    \"Drawing room\" : 18,\n",
    "    \"Bathroom\" : 22\n",
    "}\n",
    "\n",
    "\n",
    "for room,temp in rooms.items():\n",
    "    print(f\"Room: {room}\",end='-- ')\n",
    "    agent.act(temp)"
   ]
  }
 ],
 "metadata": {
  "kernelspec": {
   "display_name": "Python 3 (ipykernel)",
   "language": "python",
   "name": "python3"
  },
  "language_info": {
   "codemirror_mode": {
    "name": "ipython",
    "version": 3
   },
   "file_extension": ".py",
   "mimetype": "text/x-python",
   "name": "python",
   "nbconvert_exporter": "python",
   "pygments_lexer": "ipython3",
   "version": "3.11.7"
  }
 },
 "nbformat": 4,
 "nbformat_minor": 5
}
