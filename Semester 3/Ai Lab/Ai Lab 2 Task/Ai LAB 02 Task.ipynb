{
 "cells": [
  {
   "cell_type": "markdown",
   "id": "2c3aabb4-94e5-4639-81cc-90271d3996d3",
   "metadata": {},
   "source": [
    "## Mini Project 1 (Fizz Buzz)"
   ]
  },
  {
   "cell_type": "code",
   "execution_count": 3,
   "id": "8f63c88c-3bb8-44b3-af19-0d3e9a77a6ea",
   "metadata": {},
   "outputs": [
    {
     "name": "stdout",
     "output_type": "stream",
     "text": [
      "Enter any number!\n",
      "\n",
      "If you enter the number which is divisible by 3 then you got the output Fizz\n",
      "If you enter the number which is divisible by 5 then you got the output Buzz\n",
      "If you enter the number which is divisible by Both 3 & 5 then you got the output Fizz Buzz\n",
      "\n"
     ]
    },
    {
     "name": "stdin",
     "output_type": "stream",
     "text": [
      "Enter a number to play the game(& if you want to exit the game then press 0):  1\n"
     ]
    },
    {
     "name": "stdout",
     "output_type": "stream",
     "text": [
      "1\n"
     ]
    },
    {
     "name": "stdin",
     "output_type": "stream",
     "text": [
      "Enter a number to play the game(& if you want to exit the game then press 0):  2\n"
     ]
    },
    {
     "name": "stdout",
     "output_type": "stream",
     "text": [
      "1\n",
      "2\n"
     ]
    },
    {
     "name": "stdin",
     "output_type": "stream",
     "text": [
      "Enter a number to play the game(& if you want to exit the game then press 0):  3\n"
     ]
    },
    {
     "name": "stdout",
     "output_type": "stream",
     "text": [
      "1\n",
      "2\n",
      "Fizz\n"
     ]
    },
    {
     "name": "stdin",
     "output_type": "stream",
     "text": [
      "Enter a number to play the game(& if you want to exit the game then press 0):  0\n"
     ]
    },
    {
     "name": "stdout",
     "output_type": "stream",
     "text": [
      "Exiting from the Game...\n"
     ]
    }
   ],
   "source": [
    "print(\"Enter any number!\")\n",
    "\n",
    "print()\n",
    "\n",
    "print(\"If you enter the number which is divisible by 3 then you got the output Fizz\")\n",
    "print(\"If you enter the number which is divisible by 5 then you got the output Buzz\")\n",
    "print(\"If you enter the number which is divisible by Both 3 & 5 then you got the output Fizz Buzz\")\n",
    "\n",
    "print()\n",
    "\n",
    "def FizzBuzz():\n",
    "    while True:\n",
    "            number = int(input(\"Enter a number to play the game(& if you want to exit the game then press 0): \"))\n",
    "            if number == 0:\n",
    "                print(\"Exiting from the Game...\")\n",
    "                break\n",
    "            for i in range(1, number + 1):\n",
    "                if i % 3 == 0 and i % 5 == 0:\n",
    "                    print(\"FizzBuzz\")\n",
    "                elif i % 3 == 0:\n",
    "                    print(\"Fizz\")\n",
    "                elif i % 5 == 0:\n",
    "                    print(\"Buzz\")\n",
    "                elif i == 0:\n",
    "                    print(\"Exiting...\")\n",
    "                    break\n",
    "                else:\n",
    "                    print(i)\n",
    "\n",
    "FizzBuzz()"
   ]
  },
  {
   "cell_type": "markdown",
   "id": "a240a6fe-b51d-4785-bcdc-a8e1fece72a7",
   "metadata": {},
   "source": [
    "## Mini Project 2 (Calculating the Movie Budget)"
   ]
  },
  {
   "cell_type": "code",
   "execution_count": 5,
   "id": "e7bbf7b8-83b3-4957-aa8c-2d76ec4cf3c8",
   "metadata": {},
   "outputs": [
    {
     "name": "stdout",
     "output_type": "stream",
     "text": [
      "Average budget of all movies is: 190500000.0\n",
      "\n",
      "Movies which are higher than the average:\n",
      "Pirates of the Caribbean: On Stranger Tides: 379000000 (This Film Budget is higher by 188500000.0\n",
      "Avengers: Age of Ultron: 365000000 (This Film Budget is higher by 174500000.0\n",
      "Avengers: Endgame: 356000000 (This Film Budget is higher by 165500000.0\n",
      "Incredibles 2: 200000000 (This Film Budget is higher by 9500000.0\n",
      "\n",
      "Number of movies that spent more than the average are: 4\n"
     ]
    }
   ],
   "source": [
    "movies = [\n",
    "    (\"Eternal Sunshine of the Spotless Mind\", 20000000),\n",
    "    (\"Memento\", 9000000),\n",
    "    (\"Requiem for a Dream\", 4500000),\n",
    "    (\"Pirates of the Caribbean: On Stranger Tides\", 379000000),\n",
    "    (\"Avengers: Age of Ultron\", 365000000),\n",
    "    (\"Avengers: Endgame\", 356000000),\n",
    "    (\"Incredibles 2\", 200000000)\n",
    "]\n",
    "\n",
    "\n",
    "def Average(movies):\n",
    "    Total_budget = 0  \n",
    "    for movie in movies:\n",
    "        Total_budget += movie[1]  \n",
    "\n",
    "    return Total_budget / len(movies)\n",
    "\n",
    "Average_budget = Average(movies)\n",
    "\n",
    "print(f\"Average budget of all movies is: {Average_budget:}\")\n",
    "\n",
    "High_budget_movies = []\n",
    "for movie in movies:\n",
    "    if movie[1] > Average_budget:\n",
    "        Difference = movie[1] - Average_budget\n",
    "        High_budget_movies.append((movie[0], movie[1], Difference))\n",
    "\n",
    "print()\n",
    "\n",
    "print(\"Movies which are higher than the average:\")\n",
    "\n",
    "for movie in High_budget_movies:\n",
    "    print(f\"{movie[0]}: {movie[1]:} (This Film Budget is higher by {movie[2]:}\")\n",
    "\n",
    "print()\n",
    "\n",
    "print(f\"Number of movies that spent more than the average are: {len(High_budget_movies)}\")"
   ]
  }
 ],
 "metadata": {
  "kernelspec": {
   "display_name": "Python 3 (ipykernel)",
   "language": "python",
   "name": "python3"
  },
  "language_info": {
   "codemirror_mode": {
    "name": "ipython",
    "version": 3
   },
   "file_extension": ".py",
   "mimetype": "text/x-python",
   "name": "python",
   "nbconvert_exporter": "python",
   "pygments_lexer": "ipython3",
   "version": "3.11.7"
  }
 },
 "nbformat": 4,
 "nbformat_minor": 5
}
