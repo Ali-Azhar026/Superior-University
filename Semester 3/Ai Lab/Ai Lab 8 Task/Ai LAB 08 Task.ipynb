{
 "cells": [
  {
   "cell_type": "markdown",
   "id": "c1a2f382-783b-404f-8687-2de3f25a3407",
   "metadata": {},
   "source": [
    "## ¬@Task 01(Min Max Algorithm)"
   ]
  },
  {
   "cell_type": "code",
   "execution_count": 1,
   "id": "8de75896-1256-49ed-8fa3-6346c7c3e6b3",
   "metadata": {},
   "outputs": [
    {
     "name": "stdout",
     "output_type": "stream",
     "text": [
      "4\n"
     ]
    }
   ],
   "source": [
    "import math\n",
    "\n",
    "def MinMaxAlgo(currNode, nodeIndex, maxTurn, leafNodes, nodeDepth):\n",
    "    if (currNode == nodeDepth):\n",
    "        return leafNodes[nodeIndex]\n",
    "\n",
    "    if (maxTurn):\n",
    "        return max(MinMaxAlgo(currNode+1, nodeIndex*2, False, leafNodes, nodeDepth),\n",
    "                   MinMaxAlgo(currNode+1, nodeIndex*2+1, False, leafNodes, nodeDepth))\n",
    "    else:\n",
    "        return min(MinMaxAlgo(currNode+1, nodeIndex*2, True, leafNodes, nodeDepth),\n",
    "                   MinMaxAlgo(currNode+1, nodeIndex*2+1, True, leafNodes, nodeDepth))\n",
    "\n",
    "leafNodes = [2,4,6,4]\n",
    "nodeDepth = math.log(len(leafNodes), 2)\n",
    "print(MinMaxAlgo(0, 0, True, leafNodes, nodeDepth))"
   ]
  }
 ],
 "metadata": {
  "kernelspec": {
   "display_name": "Python 3 (ipykernel)",
   "language": "python",
   "name": "python3"
  },
  "language_info": {
   "codemirror_mode": {
    "name": "ipython",
    "version": 3
   },
   "file_extension": ".py",
   "mimetype": "text/x-python",
   "name": "python",
   "nbconvert_exporter": "python",
   "pygments_lexer": "ipython3",
   "version": "3.11.7"
  }
 },
 "nbformat": 4,
 "nbformat_minor": 5
}
