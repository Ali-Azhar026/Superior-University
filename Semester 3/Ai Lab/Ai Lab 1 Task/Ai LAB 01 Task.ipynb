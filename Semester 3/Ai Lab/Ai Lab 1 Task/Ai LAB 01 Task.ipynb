{
 "cells": [
  {
   "cell_type": "markdown",
   "id": "a0f5d82c-06d2-493b-98dd-85c8a23ee574",
   "metadata": {},
   "source": [
    "## Mini Project  [TO DO LIST]"
   ]
  },
  {
   "cell_type": "code",
   "execution_count": 1,
   "id": "8462f7eb-a0d0-41bd-9eae-4630f484f2cb",
   "metadata": {},
   "outputs": [
    {
     "name": "stdout",
     "output_type": "stream",
     "text": [
      "\n",
      "My To Do List\n",
      "\n",
      "1: Enter (A or a) to Add into To Do.\n",
      "2: Enter (U or u) to Updatete into To Do.\n",
      "3: Enter (D or d) to Delete into To Do.\n",
      "4: Enter (E or e) to Exit into To Do.\n"
     ]
    },
    {
     "name": "stdin",
     "output_type": "stream",
     "text": [
      "\n",
      "What do you want to do? (A, U, D, E) :  e\n",
      "\n",
      " Are you sure to exit (Yes/No):  yes\n"
     ]
    },
    {
     "name": "stdout",
     "output_type": "stream",
     "text": [
      "Exiting from the To Do List...\n"
     ]
    }
   ],
   "source": [
    "print(\"\\nMy To Do List\")\n",
    "\n",
    "print(\"\\n1: Enter (A or a) to Add into To Do.\") \n",
    "print(\"2: Enter (U or u) to Updatete into To Do.\")\n",
    "print(\"3: Enter (D or d) to Delete into To Do.\")\n",
    "print(\"4: Enter (E or e) to Exit into To Do.\")\n",
    "\n",
    "My_todo_list = []\n",
    "Run = True\n",
    "while Run:\n",
    "    User_input = input(\"\\nWhat do you want to do? (A, U, D, E) : \").lower()\n",
    "    if User_input == \"a\":\n",
    "        new_todo = input(\"\\nPlease enter a new To do: \").lower()\n",
    "        print(f\"\\nYour New To do is {new_todo}.\")\n",
    "        My_todo_list.append(new_todo)\n",
    "\n",
    "    \n",
    "    elif User_input == \"u\":\n",
    "       while True:\n",
    "            Item_name = input(\"\\nPlease enter item name you want to update into To Do: \").lower()\n",
    "            try:\n",
    "                if Item_name in My_todo_list:\n",
    "                    # Surity\n",
    "                    choice = input(f\"\\nAre you sure to update {Item_name} from your To Do list (Yes/No): \").lower()\n",
    "                    if choice == \"yes\":\n",
    "                        Update_item = input(f\"Please enter item name you want to update {Item_name} with.\").lower()\n",
    "                        # Index, Item name ko locate kr rha ha phr usy Index variable mn store krwa dia\n",
    "                        index = My_todo_list.index(Item_name)\n",
    "                        My_todo_list[index] = Update_item\n",
    "                        print(f\"{Item_name} updated successfully from your To Do List into {Update_item}.\")\n",
    "                        break\n",
    "                else:\n",
    "                    print(\"Item not found.\")\n",
    "            except Exception:\n",
    "                print(\"Something went wrong...\")\n",
    "                \n",
    "                \n",
    "    elif User_input == \"d\":\n",
    "         while True:\n",
    "            Item_name = input(\"\\nPlease enter item name you want to delete into To Do: \").lower()\n",
    "            try:\n",
    "                if Item_name in My_todo_list:\n",
    "                    # Surity\n",
    "                    choice = input(f\"\\nAre you sure to delete {Item_name} from your To Do List (Yes/No): \").lower()\n",
    "                    if choice == \"yes\":\n",
    "                        My_todo_list.remove(Item_name)\n",
    "                        print(f\"{Item_name} deleted successfully from your To Do List.\")\n",
    "                        break\n",
    "                else:\n",
    "                    print(\"Item not found.\")\n",
    "            except Exception:\n",
    "                print(\"Something went wrong...\")\n",
    "\n",
    "    \n",
    "    elif User_input == \"e\":\n",
    "        # Surity\n",
    "        choice = input(\"\\n Are you sure to exit (Yes/No): \").lower()\n",
    "        if choice == \"yes\":\n",
    "            Run = False\n",
    "            print(\"Exiting from the To Do List...\")\n",
    "\n",
    "    \n",
    "    elif User_input == \"\" or User_input == \" \":\n",
    "        print(\"Please enter something...\")\n",
    "\n",
    "    \n",
    "    else:\n",
    "        print(\"Invalid input. plesase enter valid input...\")"
   ]
  }
 ],
 "metadata": {
  "kernelspec": {
   "display_name": "Python 3 (ipykernel)",
   "language": "python",
   "name": "python3"
  },
  "language_info": {
   "codemirror_mode": {
    "name": "ipython",
    "version": 3
   },
   "file_extension": ".py",
   "mimetype": "text/x-python",
   "name": "python",
   "nbconvert_exporter": "python",
   "pygments_lexer": "ipython3",
   "version": "3.11.7"
  }
 },
 "nbformat": 4,
 "nbformat_minor": 5
}
