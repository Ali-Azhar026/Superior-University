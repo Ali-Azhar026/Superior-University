{
 "cells": [
  {
   "cell_type": "markdown",
   "id": "e0f018e8-86e6-457e-908b-6efe62bd3493",
   "metadata": {},
   "source": [
    "## ¬@Task 01 (BFS without Queue and Node)"
   ]
  },
  {
   "cell_type": "code",
   "execution_count": 81,
   "id": "01132381-8d9f-48ac-b0de-b688c09d27ec",
   "metadata": {},
   "outputs": [
    {
     "name": "stdin",
     "output_type": "stream",
     "text": [
      "Enter Goal:  D\n"
     ]
    },
    {
     "name": "stdout",
     "output_type": "stream",
     "text": [
      "---BFS Traversing without Queue---\n",
      "A B C E D "
     ]
    }
   ],
   "source": [
    "graph = {\n",
    "    'A': ['B', 'C'],\n",
    "    'B': ['E'],\n",
    "    'C': ['E', 'D'],\n",
    "    'D': ['E', 'G'],\n",
    "    'E': ['G'],\n",
    "    'G': []\n",
    "}\n",
    "\n",
    "def BFS(graph, root_node, goal):\n",
    "    visited = [] \n",
    "    level = [root_node] \n",
    "\n",
    "    while level:\n",
    "        next_level = [] \n",
    "        for node in level:\n",
    "            if (node not in visited) and (goal not in visited):\n",
    "                if goal == root_node:\n",
    "                    print(\"No You should not have goal which is root node plz enter except root node\")\n",
    "                else:\n",
    "                    print(node, end = ' ')\n",
    "                    visited.append(node)\n",
    "                    next_level.extend(graph.get(node, [])) \n",
    "        level = next_level \n",
    "\n",
    "\n",
    "goal = input(\"Enter Goal: \")\n",
    "print(\"---BFS Traversing without Queue---\")\n",
    "BFS(graph, 'A', goal)"
   ]
  },
  {
   "cell_type": "markdown",
   "id": "74a41e6e-f44d-410b-9bcc-7675e0854794",
   "metadata": {},
   "source": [
    "## ¬@Task 02 (BFS with Queue and Node)"
   ]
  },
  {
   "cell_type": "code",
   "execution_count": 78,
   "id": "996496c3-e8d5-476d-b65f-01cb25b0e7d5",
   "metadata": {},
   "outputs": [
    {
     "name": "stdin",
     "output_type": "stream",
     "text": [
      "Enter Goal: G\n"
     ]
    },
    {
     "name": "stdout",
     "output_type": "stream",
     "text": [
      "---BFS Traversing with Queue---\n",
      "A B C E D G "
     ]
    }
   ],
   "source": [
    "graph = {\n",
    "    'A': ['B', 'C'],\n",
    "    'B': ['E'],\n",
    "    'C': ['E', 'D'],\n",
    "    'D': ['E', 'G'],\n",
    "    'E': ['G'],\n",
    "    'G': []\n",
    "}\n",
    "\n",
    "def BFS(graph, root_node, goal):\n",
    "    queue = [root_node]  \n",
    "    visited = []\n",
    "\n",
    "    while queue:\n",
    "        node = queue[0]  \n",
    "        queue = queue[1:]\n",
    "\n",
    "        if (node not in visited) and (goal not in visited):\n",
    "            if goal == root_node:\n",
    "                print(\"No You should not have goal which is root node plz enter except root node\")\n",
    "            else:\n",
    "                print(node, end=' ')\n",
    "                visited.append(node)\n",
    "                queue.extend(graph.get(node, []))  \n",
    "\n",
    "\n",
    "goal = input(\"Enter Goal:\")\n",
    "print(\"---BFS Traversing with Queue---\")\n",
    "BFS(graph, 'A', goal)"
   ]
  }
 ],
 "metadata": {
  "kernelspec": {
   "display_name": "Python 3 (ipykernel)",
   "language": "python",
   "name": "python3"
  },
  "language_info": {
   "codemirror_mode": {
    "name": "ipython",
    "version": 3
   },
   "file_extension": ".py",
   "mimetype": "text/x-python",
   "name": "python",
   "nbconvert_exporter": "python",
   "pygments_lexer": "ipython3",
   "version": "3.11.7"
  }
 },
 "nbformat": 4,
 "nbformat_minor": 5
}
